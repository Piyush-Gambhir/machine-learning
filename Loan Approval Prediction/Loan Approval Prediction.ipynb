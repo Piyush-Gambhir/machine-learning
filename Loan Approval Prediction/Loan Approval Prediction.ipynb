{
  "cells": [
    {
      "cell_type": "markdown",
      "metadata": {
        "id": "hs7wkrtBJs_4"
      },
      "source": [
        "\n",
        "\n",
        "\n",
        "\n",
        "\n",
        "\n",
        "\n",
        "\n",
        "\n",
        "\n",
        "\n",
        "\n",
        "\n",
        "\n",
        "\n",
        "\n",
        "\n",
        "\n",
        "\n",
        "\n",
        "\n",
        "\n",
        "\n",
        "\n",
        "\n",
        "\n",
        "\n",
        "\n",
        "\n",
        "\n",
        "\n",
        "\n",
        "\n",
        "\n",
        "\n",
        "\n",
        "\n",
        "\n",
        "\n",
        "\n",
        "\n",
        "\n",
        "\n",
        "\n",
        "\n",
        "\n",
        "\n",
        "\n",
        "\n",
        "\n",
        "\n",
        "\n",
        "\n",
        "\n",
        "\n",
        "\n",
        "\n",
        "\n",
        "\n",
        "\n",
        "\n",
        "\n",
        "\n",
        "\n",
        "\n",
        "\n",
        "\n",
        "\n",
        "\n",
        "\n",
        "\n",
        "\n",
        "\n",
        "\n",
        "\n",
        "\n",
        "\n",
        "\n",
        "\n",
        "\n",
        "\n",
        "\n",
        "\n",
        "\n",
        "\n",
        "\n",
        "\n",
        "\n",
        "\n",
        "\n",
        "\n",
        "\n",
        "\n",
        "\n",
        "\n",
        "\n",
        "\n",
        "\n",
        "\n",
        "\n",
        "\n",
        "\n",
        "\n",
        "\n",
        "\n",
        "\n",
        "\n",
        "\n",
        "\n",
        "\n",
        "\n",
        "\n",
        "\n",
        "\n",
        "\n",
        "\n",
        "\n",
        "\n",
        "\n",
        "\n",
        "\n",
        "\n",
        "\n",
        "\n",
        "\n",
        "\n",
        "\n",
        "\n",
        "\n",
        "\n",
        "\n",
        "\n",
        "\n",
        "\n",
        "\n",
        "\n",
        "\n",
        "\n",
        "\n",
        "\n",
        "\n",
        "\n",
        "\n",
        "\n",
        "\n",
        "\n",
        "\n",
        "\n",
        "\n",
        "\n",
        "\n",
        "\n",
        "\n",
        "\n",
        "\n",
        "\n",
        "\n",
        "\n",
        "\n",
        "\n",
        "\n",
        "\n",
        "\n",
        "\n",
        "\n",
        "# Loan Approval Prediction"
      ]
    },
    {
      "cell_type": "markdown",
      "metadata": {
        "id": "OWoyECRDJs_8"
      },
      "source": [
        "In today's fast-paced world, financial institutions are under increasing pressure to make accurate and quick decisions regarding loan applications. Traditional methods can be time-consuming and sometimes lead to errors. The Loan Approval Prediction project aims to harness the power of machine learning to predict the approval of loan applications based on a variety of criteria. By integrating data-driven insights, we can significantly improve the accuracy and efficiency of the loan approval process.\n",
        "\n",
        "The main objective of this project is to build a machine learning model that can predict the likelihood of a loan application being approved. The model will take into account various factors like applicant's credit history, income, employment status, property area, and several others, to render a decision."
      ]
    },
    {
      "cell_type": "markdown",
      "metadata": {
        "id": "c1GZVss8Js_9"
      },
      "source": [
        "## Dataset Link:\n",
        "https://www.kaggle.com/datasets/architsharma01/loan-approval-prediction-dataset"
      ]
    },
    {
      "cell_type": "markdown",
      "metadata": {
        "id": "NQsnw98KJs_9"
      },
      "source": [
        "## Dataset Description:"
      ]
    },
    {
      "cell_type": "markdown",
      "metadata": {
        "id": "1sX9A70_Js_-"
      },
      "source": [
        "- **loan_id**: A unique identifier for each loan application.\n",
        "- **no_of_dependents**: The number of dependents of the loan applicant.\n",
        "- **education**: The education level of the loan applicant. Values include:\n",
        "   * Graduate\n",
        "   * Not Graduate\n",
        "- **self_employed**: Indicates whether the applicant is self-employed. Possible values:\n",
        "   * Yes\n",
        "   * No\n",
        "- **income_annum**: The annual income of the loan applicant.\n",
        "- **loan_amount**: The amount of loan requested by the applicant.\n",
        "- **loan_term**: The duration (in years) for which the loan is requested.\n",
        "- **cibil_score**: The credit score of the loan applicant.\n",
        "- **residential_assets_value**: The value of the residential assets owned by the applicant.\n",
        "- **commercial_assets_value**: The value of the commercial assets owned by the applicant.\n",
        "- **luxury_assets_value**: The value of luxury assets owned by the applicant.\n",
        "- **bank_asset_value**: The value of assets held in banks by the applicant.\n",
        "- **loan_status**: The status of the loan application. Possible values:\n",
        "   * Approved\n",
        "   * Rejected\n"
      ]
    },
    {
      "cell_type": "markdown",
      "metadata": {
        "id": "6VH6ND7NJs_-"
      },
      "source": [
        "## Installing Dependencies"
      ]
    },
    {
      "cell_type": "code",
      "execution_count": 123,
      "metadata": {
        "id": "lp3MGHo0Js__"
      },
      "outputs": [],
      "source": [
        "! pip install numpy pandas matplotlib seaborn scikit-learn tabulate -q"
      ]
    },
    {
      "cell_type": "markdown",
      "metadata": {
        "id": "rkUdq_v8JtAA"
      },
      "source": [
        "## Code"
      ]
    },
    {
      "cell_type": "markdown",
      "metadata": {
        "id": "Rqz9rgDAJtAB"
      },
      "source": [
        "#### Importing Required Libraries"
      ]
    },
    {
      "cell_type": "code",
      "execution_count": 124,
      "metadata": {
        "id": "MBG0yUpUJtAB"
      },
      "outputs": [],
      "source": [
        "# importing the necessary libraries\n",
        "\n",
        "# importing pandas library and renaming it as 'pd' for convenience\n",
        "import pandas as pd\n",
        "# importing numpy library and renaming it as 'np' for convenience\n",
        "import numpy as np\n",
        "# importing matplotlib's pyplot module and renaming it as 'plt' for convenience\n",
        "import matplotlib.pyplot as plt\n",
        "# importing seaborn library and renaming it as 'sns' for convenience\n",
        "import seaborn as sns\n",
        "# importing the 'warnings' module from the Python Standard Library\n",
        "import warnings\n",
        "\n",
        "\n",
        "# preprocessing\n",
        "\n",
        "# importing label encoder from sklearn\n",
        "from sklearn.preprocessing import LabelEncoder\n",
        "# importing standard scaler from sklearn\n",
        "from sklearn.preprocessing import StandardScaler\n",
        "# importing train_test_split from sklearn\n",
        "from sklearn.model_selection import train_test_split\n",
        "\n",
        "\n",
        "# classification models\n",
        "\n",
        "# importing the Logistic Regression algorithm from sklearn\n",
        "from sklearn.linear_model import LogisticRegression\n",
        "# importing the K-Nearest Neighbors algorithm from sklearn\n",
        "from sklearn.neighbors import KNeighborsClassifier\n",
        "# importing the Decision Tree algorithm from sklearn\n",
        "from sklearn.tree import DecisionTreeClassifier\n",
        "# importing the Random Forest algorithm from sklearn\n",
        "from sklearn.ensemble import RandomForestClassifier\n",
        "# importing the Support Vector Machine algorithm from sklearn\n",
        "from sklearn.svm import SVC\n",
        "# importing the Gaussian Naive Bayes algorithm from sklearn\n",
        "from sklearn.naive_bayes import GaussianNB\n",
        "\n",
        "\n",
        "# performance metrics\n",
        "\n",
        "# importing the k-fold cross validation from sklearn\n",
        "from sklearn.model_selection import cross_val_score\n",
        "# importing the accuracy_score metric from sklearn\n",
        "from sklearn.metrics import accuracy_score\n",
        "# importing the confusion_matrix metric from sklearn\n",
        "from sklearn.metrics import confusion_matrix\n",
        "# importing the classification_report metric from sklearn\n",
        "from sklearn.metrics import classification_report\n",
        "# importing the recall score metric from sklearn\n",
        "from sklearn.metrics import recall_score\n",
        "# importing the precision score metric from sklearn\n",
        "from sklearn.metrics import precision_score\n",
        "# importing the f1 score metric from sklearn\n",
        "from sklearn.metrics import accuracy_score\n",
        "# importing the f1 score metric from sklearn\n",
        "from sklearn.metrics import f1_score\n",
        "# importing confusion matrix display from sklearn\n",
        "from sklearn.metrics import ConfusionMatrixDisplay\n",
        "# import the roc_auc_score metric from sklearn\n",
        "from sklearn.metrics import roc_curve, auc\n"
      ]
    },
    {
      "cell_type": "markdown",
      "metadata": {
        "id": "XLaohS5CJtAC"
      },
      "source": [
        "#### Suppressing Warnings"
      ]
    },
    {
      "cell_type": "code",
      "execution_count": 125,
      "metadata": {
        "id": "MItRzhA_JtAC"
      },
      "outputs": [],
      "source": [
        "# setting a filter for warning messages to 'ignore,' which will suppress warning messages\n",
        "warnings.filterwarnings('ignore')"
      ]
    },
    {
      "cell_type": "markdown",
      "metadata": {
        "id": "rw7Ik1LiJtAC"
      },
      "source": [
        "### Analyzing the Dataset"
      ]
    },
    {
      "cell_type": "code",
      "execution_count": 126,
      "metadata": {
        "id": "1YNYB2-hJtAD"
      },
      "outputs": [],
      "source": [
        "# reading the csv file into a pandas dataframe\n",
        "dataset = pd.read_csv('loan_approval_dataset.csv')"
      ]
    },
    {
      "cell_type": "code",
      "execution_count": 127,
      "metadata": {
        "colab": {
          "base_uri": "https://localhost:8080/"
        },
        "id": "5IRS6f8MJtAD",
        "outputId": "01c43346-24b4-4e54-870a-4cf498041653"
      },
      "outputs": [
        {
          "name": "stdout",
          "output_type": "stream",
          "text": [
            "|    |   loan_id |    no_of_dependents |  education   |  self_employed   |    income_annum |    loan_amount |    loan_term |    cibil_score |    residential_assets_value |    commercial_assets_value |    luxury_assets_value |    bank_asset_value |  loan_status   |\n",
            "|---:|----------:|--------------------:|:-------------|:-----------------|----------------:|---------------:|-------------:|---------------:|----------------------------:|---------------------------:|-----------------------:|--------------------:|:---------------|\n",
            "|  0 |         1 |                   2 | Graduate     | No               |         9600000 |       29900000 |           12 |            778 |                     2400000 |                   17600000 |               22700000 |             8000000 | Approved       |\n",
            "|  1 |         2 |                   0 | Not Graduate | Yes              |         4100000 |       12200000 |            8 |            417 |                     2700000 |                    2200000 |                8800000 |             3300000 | Rejected       |\n",
            "|  2 |         3 |                   3 | Graduate     | No               |         9100000 |       29700000 |           20 |            506 |                     7100000 |                    4500000 |               33300000 |            12800000 | Rejected       |\n",
            "|  3 |         4 |                   3 | Graduate     | No               |         8200000 |       30700000 |            8 |            467 |                    18200000 |                    3300000 |               23300000 |             7900000 | Rejected       |\n",
            "|  4 |         5 |                   5 | Not Graduate | Yes              |         9800000 |       24200000 |           20 |            382 |                    12400000 |                    8200000 |               29400000 |             5000000 | Rejected       |\n"
          ]
        }
      ],
      "source": [
        "# printing the first five rows of the dataset\n",
        "print(dataset.head().to_markdown())"
      ]
    },
    {
      "cell_type": "code",
      "execution_count": 128,
      "metadata": {
        "colab": {
          "base_uri": "https://localhost:8080/"
        },
        "id": "AHmbTn_FJtAD",
        "outputId": "95c0c79a-f68d-4e5e-d3a5-35c51f3c6e5f"
      },
      "outputs": [
        {
          "name": "stdout",
          "output_type": "stream",
          "text": [
            "\n",
            "Number of rows and columns in the dataset:  (4269, 13)\n"
          ]
        }
      ],
      "source": [
        "# printing the number of rows and columns in the dataset\n",
        "print(\"\\nNumber of rows and columns in the dataset: \", dataset.shape)"
      ]
    },
    {
      "cell_type": "code",
      "execution_count": 129,
      "metadata": {
        "colab": {
          "base_uri": "https://localhost:8080/"
        },
        "id": "_GIfl9DqJtAD",
        "outputId": "0d45d55b-17b8-4da1-a98d-94bbc9d88968"
      },
      "outputs": [
        {
          "name": "stdout",
          "output_type": "stream",
          "text": [
            "\n",
            "Number of missing values in each column: \n",
            " loan_id                      0\n",
            " no_of_dependents            0\n",
            " education                   0\n",
            " self_employed               0\n",
            " income_annum                0\n",
            " loan_amount                 0\n",
            " loan_term                   0\n",
            " cibil_score                 0\n",
            " residential_assets_value    0\n",
            " commercial_assets_value     0\n",
            " luxury_assets_value         0\n",
            " bank_asset_value            0\n",
            " loan_status                 0\n",
            "dtype: int64\n"
          ]
        }
      ],
      "source": [
        "# printing the number of missing values in each column\n",
        "print(\"\\nNumber of missing values in each column: \\n\", dataset.isnull().sum())\n"
      ]
    },
    {
      "cell_type": "code",
      "execution_count": 130,
      "metadata": {
        "colab": {
          "base_uri": "https://localhost:8080/"
        },
        "id": "YkYQOExsJtAE",
        "outputId": "aedbe1b1-0226-4c1c-8c79-b0475de8ac77"
      },
      "outputs": [
        {
          "name": "stdout",
          "output_type": "stream",
          "text": [
            "\n",
            "Descriptive statistics of the dataset: \n",
            " |       |   loan_id |    no_of_dependents |     income_annum |      loan_amount |    loan_term |    cibil_score |    residential_assets_value |    commercial_assets_value |    luxury_assets_value |    bank_asset_value |\n",
            "|:------|----------:|--------------------:|-----------------:|-----------------:|-------------:|---------------:|----------------------------:|---------------------------:|-----------------------:|--------------------:|\n",
            "| count |    4269   |          4269       |   4269           |   4269           |   4269       |       4269     |              4269           |             4269           |         4269           |      4269           |\n",
            "| mean  |    2135   |             2.49871 |      5.05912e+06 |      1.51335e+07 |     10.9004  |        599.936 |                 7.47262e+06 |                4.97316e+06 |            1.51263e+07 |         4.97669e+06 |\n",
            "| std   |    1232.5 |             1.69591 |      2.80684e+06 |      9.04336e+06 |      5.70919 |        172.43  |                 6.50364e+06 |                4.38897e+06 |            9.10375e+06 |         3.25019e+06 |\n",
            "| min   |       1   |             0       | 200000           | 300000           |      2       |        300     |           -100000           |                0           |       300000           |         0           |\n",
            "| 25%   |    1068   |             1       |      2.7e+06     |      7.7e+06     |      6       |        453     |                 2.2e+06     |                1.3e+06     |            7.5e+06     |         2.3e+06     |\n",
            "| 50%   |    2135   |             3       |      5.1e+06     |      1.45e+07    |     10       |        600     |                 5.6e+06     |                3.7e+06     |            1.46e+07    |         4.6e+06     |\n",
            "| 75%   |    3202   |             4       |      7.5e+06     |      2.15e+07    |     16       |        748     |                 1.13e+07    |                7.6e+06     |            2.17e+07    |         7.1e+06     |\n",
            "| max   |    4269   |             5       |      9.9e+06     |      3.95e+07    |     20       |        900     |                 2.91e+07    |                1.94e+07    |            3.92e+07    |         1.47e+07    |\n"
          ]
        }
      ],
      "source": [
        "# printing the descriptive statistics of the dataset\n",
        "print(\"\\nDescriptive statistics of the dataset: \\n\", dataset.describe().to_markdown())"
      ]
    },
    {
      "cell_type": "code",
      "execution_count": 131,
      "metadata": {
        "colab": {
          "base_uri": "https://localhost:8080/"
        },
        "id": "gjn8qDMoJtAE",
        "outputId": "3d263d17-e6e9-4175-b54a-59d51b63dd37"
      },
      "outputs": [
        {
          "name": "stdout",
          "output_type": "stream",
          "text": [
            "\n",
            "Data types of each column: \n",
            " loan_id                       int64\n",
            " no_of_dependents             int64\n",
            " education                   object\n",
            " self_employed               object\n",
            " income_annum                 int64\n",
            " loan_amount                  int64\n",
            " loan_term                    int64\n",
            " cibil_score                  int64\n",
            " residential_assets_value     int64\n",
            " commercial_assets_value      int64\n",
            " luxury_assets_value          int64\n",
            " bank_asset_value             int64\n",
            " loan_status                 object\n",
            "dtype: object\n"
          ]
        }
      ],
      "source": [
        "# printing the data types of each column\n",
        "print(\"\\nData types of each column: \\n\", dataset.dtypes)"
      ]
    },
    {
      "cell_type": "code",
      "execution_count": 132,
      "metadata": {
        "colab": {
          "base_uri": "https://localhost:8080/"
        },
        "id": "o_BnA-3PJtAF",
        "outputId": "9dcc3fe4-cd58-4621-e519-037568cc4072"
      },
      "outputs": [
        {
          "name": "stdout",
          "output_type": "stream",
          "text": [
            "\n",
            "Number of unique values in categorical columns: \n",
            "  education        2\n",
            " self_employed    2\n",
            " loan_status      2\n",
            "dtype: int64\n"
          ]
        }
      ],
      "source": [
        "# number of unique values in categorical columns\n",
        "print(\"\\nNumber of unique values in categorical columns: \\n\", dataset.select_dtypes(include=['object']).nunique())"
      ]
    },
    {
      "cell_type": "code",
      "execution_count": 133,
      "metadata": {},
      "outputs": [],
      "source": [
        "# removing trailing spaces in column names\n",
        "dataset.columns = dataset.columns.str.strip()"
      ]
    },
    {
      "cell_type": "code",
      "execution_count": 134,
      "metadata": {},
      "outputs": [
        {
          "name": "stdout",
          "output_type": "stream",
          "text": [
            "\n",
            "Number of unique values in all columns: \n",
            " loan_id                     4269\n",
            "no_of_dependents               6\n",
            "education                      2\n",
            "self_employed                  2\n",
            "income_annum                  98\n",
            "loan_amount                  378\n",
            "loan_term                     10\n",
            "cibil_score                  601\n",
            "residential_assets_value     278\n",
            "commercial_assets_value      188\n",
            "luxury_assets_value          379\n",
            "bank_asset_value             146\n",
            "loan_status                    2\n",
            "dtype: int64\n"
          ]
        }
      ],
      "source": [
        "# number of unique values in all columns\n",
        "print(\"\\nNumber of unique values in all columns: \\n\", dataset.nunique())"
      ]
    },
    {
      "cell_type": "code",
      "execution_count": 135,
      "metadata": {},
      "outputs": [
        {
          "name": "stdout",
          "output_type": "stream",
          "text": [
            "\n",
            "Number of approved and rejected loan applications: \n",
            " loan_status\n",
            " Approved    2656\n",
            " Rejected    1613\n",
            "Name: count, dtype: int64\n"
          ]
        }
      ],
      "source": [
        "# number of approved and rejected loan applications\n",
        "print(\"\\nNumber of approved and rejected loan applications: \\n\", dataset['loan_status'].value_counts())"
      ]
    },
    {
      "cell_type": "markdown",
      "metadata": {
        "id": "t7q5JP6zJtAF"
      },
      "source": [
        "### Data Pre-processing"
      ]
    },
    {
      "cell_type": "markdown",
      "metadata": {
        "id": "J-P9lgrRJtAF"
      },
      "source": [
        "#### Data Cleaning"
      ]
    },
    {
      "cell_type": "code",
      "execution_count": 136,
      "metadata": {
        "id": "GHz5YRGPJtAG"
      },
      "outputs": [],
      "source": [
        "# removing trailing spaces in all the columns\n",
        "dataset = dataset.apply(lambda x: x.str.strip() if x.dtype == \"object\" else x)"
      ]
    },
    {
      "cell_type": "code",
      "execution_count": 137,
      "metadata": {
        "id": "EoLzgcNcJtAG"
      },
      "outputs": [],
      "source": [
        "# strip the spaces in categorical columns\n",
        "dataset[dataset.select_dtypes(include=['object']).columns] = dataset.select_dtypes(include=['object']).apply(lambda x: x.str.strip())"
      ]
    },
    {
      "cell_type": "markdown",
      "metadata": {
        "id": "PY_HXueCJtAG"
      },
      "source": [
        "#### Data Transformation"
      ]
    },
    {
      "cell_type": "code",
      "execution_count": 138,
      "metadata": {
        "colab": {
          "base_uri": "https://localhost:8080/"
        },
        "id": "syeKdgmxJtAG",
        "outputId": "9d470a81-5c8c-4f26-dd9f-3222236ce961"
      },
      "outputs": [
        {
          "name": "stdout",
          "output_type": "stream",
          "text": [
            "Unique values in column education are:  ['Graduate' 'Not Graduate']\n",
            "Unique values in column self_employed are:  ['No' 'Yes']\n",
            "Unique values in column loan_status are:  ['Approved' 'Rejected']\n"
          ]
        }
      ],
      "source": [
        "# identifying the categorical columns\n",
        "categorical_columns = dataset.select_dtypes(include=['object']).columns\n",
        "\n",
        "# identifying the the unique values in each categorical column\n",
        "unique_values = {col: dataset[col].unique() for col in categorical_columns}\n",
        "\n",
        "# printing the unique values in each categorical column\n",
        "for key, value in unique_values.items():\n",
        "    print(\"Unique values in column\", key, \"are: \", value)"
      ]
    },
    {
      "cell_type": "code",
      "execution_count": 139,
      "metadata": {
        "colab": {
          "base_uri": "https://localhost:8080/"
        },
        "id": "vSMDtOH5JtAG",
        "outputId": "a388c18e-ae9b-4641-f06b-984bf13eba8c"
      },
      "outputs": [
        {
          "name": "stdout",
          "output_type": "stream",
          "text": [
            "Unique values in column education are:  ['Not Graduate' 'Graduate']\n",
            "Unique values in column self_employed are:  ['No' 'Yes']\n",
            "Unique values in column loan_status are:  ['Rejected' 'Approved']\n"
          ]
        }
      ],
      "source": [
        "# reversing the order of the unque values in the 'education' array\n",
        "unique_values['education'] = np.flip(unique_values['education'])\n",
        "\n",
        "# reversing the order of the uniqe values in the 'loan_status' array\n",
        "unique_values['loan_status'] = np.flip(unique_values['loan_status'])\n",
        "\n",
        "# printing the unique values in each categorical column\n",
        "for key, value in unique_values.items():\n",
        "    print(\"Unique values in column\", key, \"are: \", value)"
      ]
    },
    {
      "cell_type": "code",
      "execution_count": 140,
      "metadata": {
        "id": "4wNSdjM2JtAH"
      },
      "outputs": [],
      "source": [
        "# encoding the categorical columns\n",
        "for col in categorical_columns:\n",
        "    le = LabelEncoder()\n",
        "    dataset[col] = le.fit_transform(dataset[col])"
      ]
    },
    {
      "cell_type": "code",
      "execution_count": 141,
      "metadata": {
        "id": "5_rR8NK9JtAH"
      },
      "outputs": [],
      "source": [
        "# columns to scale\n",
        "\n",
        "# removing the 'loan_id' and 'loan_status' columns from the list of columns to scale\n",
        "columns_to_scale = dataset.columns.difference(['loan_id', 'loan_status'])\n",
        "# removing all the categorical columns from the list of columns to scale\n",
        "columns_to_scale = columns_to_scale.difference(categorical_columns)\n",
        "\n",
        "# scaling the columns\n",
        "scaler = StandardScaler()\n",
        "dataset[columns_to_scale] = scaler.fit_transform(dataset[columns_to_scale])"
      ]
    },
    {
      "cell_type": "markdown",
      "metadata": {
        "id": "BWYmo73qJtAH"
      },
      "source": [
        "#### Data Reduction"
      ]
    },
    {
      "cell_type": "code",
      "execution_count": 142,
      "metadata": {
        "id": "0ra3Kuj-JtAH"
      },
      "outputs": [],
      "source": [
        "# dropping the 'loan_id' column\n",
        "dataset.drop('loan_id', axis=1, inplace=True)"
      ]
    },
    {
      "cell_type": "code",
      "execution_count": 143,
      "metadata": {
        "colab": {
          "base_uri": "https://localhost:8080/"
        },
        "id": "8L_KviauJtAI",
        "outputId": "33eb94f1-6310-4353-dea9-34f2deb845bf"
      },
      "outputs": [
        {
          "name": "stdout",
          "output_type": "stream",
          "text": [
            "\n",
            "Updated dataset copy:\n",
            " |    |   no_of_dependents |   education |   self_employed |   income_annum |   loan_amount |   loan_term |   cibil_score |   residential_assets_value |   commercial_assets_value |   luxury_assets_value |   bank_asset_value |   loan_status |\n",
            "|---:|-------------------:|------------:|----------------:|---------------:|--------------:|------------:|--------------:|---------------------------:|--------------------------:|----------------------:|-------------------:|--------------:|\n",
            "|  0 |          -0.294102 |           0 |               0 |        1.61798 |      1.63305  |    0.192617 |      1.03279  |                 -0.780058  |                  2.87729  |              0.832028 |         0.930304   |             0 |\n",
            "|  1 |          -1.47355  |           1 |               1 |       -0.34175 |     -0.324414 |   -0.508091 |     -1.06105  |                 -0.733924  |                 -0.631921 |             -0.694993 |        -0.515936   |             1 |\n",
            "|  2 |           0.295621 |           0 |               0 |        1.43982 |      1.61093  |    1.59403  |     -0.54484  |                 -0.0573003 |                 -0.107818 |              1.99652  |         2.40732    |             1 |\n",
            "|  3 |           0.295621 |           0 |               0 |        1.11914 |      1.72152  |   -0.508091 |     -0.771045 |                  1.64964   |                 -0.381263 |              0.897943 |         0.899533   |             1 |\n",
            "|  4 |           1.47507  |           1 |               1 |        1.68924 |      1.00268  |    1.59403  |     -1.26406  |                  0.757724  |                  0.735304 |              1.56807  |         0.00717199 |             1 |\n"
          ]
        }
      ],
      "source": [
        "# printing the first five rows of the updated dataset\n",
        "print(\"\\nUpdated dataset copy:\\n\", dataset.head().to_markdown())"
      ]
    },
    {
      "cell_type": "markdown",
      "metadata": {
        "id": "sE0WVeT3JtAI"
      },
      "source": [
        "### Training and Testing the Machine Learning Models on Various Algorithms"
      ]
    },
    {
      "cell_type": "code",
      "execution_count": 144,
      "metadata": {
        "id": "1gnoZbZUJtAI"
      },
      "outputs": [],
      "source": [
        "# splitting the dataset into features and target variable\n",
        "X = dataset.drop(columns=['loan_status'])\n",
        "y = dataset['loan_status']"
      ]
    },
    {
      "cell_type": "code",
      "execution_count": 145,
      "metadata": {
        "colab": {
          "base_uri": "https://localhost:8080/"
        },
        "id": "ZCJSbZ7cJtAI",
        "outputId": "0eae785c-9ad0-4a0e-e9d2-fcb631a7d690"
      },
      "outputs": [
        {
          "name": "stdout",
          "output_type": "stream",
          "text": [
            "Number of rows and columns in the training set:  (3415, 11)\n",
            "Number of rows and columns in the testing set:  (854, 11)\n"
          ]
        }
      ],
      "source": [
        "# splitting the dataset into training and testing sets\n",
        "X_train, X_test, y_train, y_test = train_test_split(X, y, random_state=42, test_size=0.2)\n",
        "\n",
        "# printing the number of rows and columns in the training set\n",
        "print(\"Number of rows and columns in the training set: \", X_train.shape)\n",
        "\n",
        "# printing the number of rows and columns in the testing set\n",
        "print(\"Number of rows and columns in the testing set: \", X_test.shape)"
      ]
    },
    {
      "cell_type": "code",
      "execution_count": 146,
      "metadata": {
        "id": "4-sp-Brs13cS"
      },
      "outputs": [],
      "source": [
        "# creating an empty dictionary to store the performance metrics of each model\n",
        "performance_metrics = {}"
      ]
    },
    {
      "cell_type": "markdown",
      "metadata": {
        "id": "3NxUsEl4JtAI"
      },
      "source": [
        "#### Logistic Regression Model\n"
      ]
    },
    {
      "cell_type": "code",
      "execution_count": 147,
      "metadata": {
        "colab": {
          "base_uri": "https://localhost:8080/",
          "height": 74
        },
        "id": "SqRpjM4qJtAJ",
        "outputId": "3ed31f2c-2704-485a-c32c-784cc911a094"
      },
      "outputs": [
        {
          "data": {
            "text/html": [
              "<style>#sk-container-id-8 {color: black;background-color: white;}#sk-container-id-8 pre{padding: 0;}#sk-container-id-8 div.sk-toggleable {background-color: white;}#sk-container-id-8 label.sk-toggleable__label {cursor: pointer;display: block;width: 100%;margin-bottom: 0;padding: 0.3em;box-sizing: border-box;text-align: center;}#sk-container-id-8 label.sk-toggleable__label-arrow:before {content: \"▸\";float: left;margin-right: 0.25em;color: #696969;}#sk-container-id-8 label.sk-toggleable__label-arrow:hover:before {color: black;}#sk-container-id-8 div.sk-estimator:hover label.sk-toggleable__label-arrow:before {color: black;}#sk-container-id-8 div.sk-toggleable__content {max-height: 0;max-width: 0;overflow: hidden;text-align: left;background-color: #f0f8ff;}#sk-container-id-8 div.sk-toggleable__content pre {margin: 0.2em;color: black;border-radius: 0.25em;background-color: #f0f8ff;}#sk-container-id-8 input.sk-toggleable__control:checked~div.sk-toggleable__content {max-height: 200px;max-width: 100%;overflow: auto;}#sk-container-id-8 input.sk-toggleable__control:checked~label.sk-toggleable__label-arrow:before {content: \"▾\";}#sk-container-id-8 div.sk-estimator input.sk-toggleable__control:checked~label.sk-toggleable__label {background-color: #d4ebff;}#sk-container-id-8 div.sk-label input.sk-toggleable__control:checked~label.sk-toggleable__label {background-color: #d4ebff;}#sk-container-id-8 input.sk-hidden--visually {border: 0;clip: rect(1px 1px 1px 1px);clip: rect(1px, 1px, 1px, 1px);height: 1px;margin: -1px;overflow: hidden;padding: 0;position: absolute;width: 1px;}#sk-container-id-8 div.sk-estimator {font-family: monospace;background-color: #f0f8ff;border: 1px dotted black;border-radius: 0.25em;box-sizing: border-box;margin-bottom: 0.5em;}#sk-container-id-8 div.sk-estimator:hover {background-color: #d4ebff;}#sk-container-id-8 div.sk-parallel-item::after {content: \"\";width: 100%;border-bottom: 1px solid gray;flex-grow: 1;}#sk-container-id-8 div.sk-label:hover label.sk-toggleable__label {background-color: #d4ebff;}#sk-container-id-8 div.sk-serial::before {content: \"\";position: absolute;border-left: 1px solid gray;box-sizing: border-box;top: 0;bottom: 0;left: 50%;z-index: 0;}#sk-container-id-8 div.sk-serial {display: flex;flex-direction: column;align-items: center;background-color: white;padding-right: 0.2em;padding-left: 0.2em;position: relative;}#sk-container-id-8 div.sk-item {position: relative;z-index: 1;}#sk-container-id-8 div.sk-parallel {display: flex;align-items: stretch;justify-content: center;background-color: white;position: relative;}#sk-container-id-8 div.sk-item::before, #sk-container-id-8 div.sk-parallel-item::before {content: \"\";position: absolute;border-left: 1px solid gray;box-sizing: border-box;top: 0;bottom: 0;left: 50%;z-index: -1;}#sk-container-id-8 div.sk-parallel-item {display: flex;flex-direction: column;z-index: 1;position: relative;background-color: white;}#sk-container-id-8 div.sk-parallel-item:first-child::after {align-self: flex-end;width: 50%;}#sk-container-id-8 div.sk-parallel-item:last-child::after {align-self: flex-start;width: 50%;}#sk-container-id-8 div.sk-parallel-item:only-child::after {width: 0;}#sk-container-id-8 div.sk-dashed-wrapped {border: 1px dashed gray;margin: 0 0.4em 0.5em 0.4em;box-sizing: border-box;padding-bottom: 0.4em;background-color: white;}#sk-container-id-8 div.sk-label label {font-family: monospace;font-weight: bold;display: inline-block;line-height: 1.2em;}#sk-container-id-8 div.sk-label-container {text-align: center;}#sk-container-id-8 div.sk-container {/* jupyter's `normalize.less` sets `[hidden] { display: none; }` but bootstrap.min.css set `[hidden] { display: none !important; }` so we also need the `!important` here to be able to override the default hidden behavior on the sphinx rendered scikit-learn.org. See: https://github.com/scikit-learn/scikit-learn/issues/21755 */display: inline-block !important;position: relative;}#sk-container-id-8 div.sk-text-repr-fallback {display: none;}</style><div id=\"sk-container-id-8\" class=\"sk-top-container\"><div class=\"sk-text-repr-fallback\"><pre>LogisticRegression()</pre><b>In a Jupyter environment, please rerun this cell to show the HTML representation or trust the notebook. <br />On GitHub, the HTML representation is unable to render, please try loading this page with nbviewer.org.</b></div><div class=\"sk-container\" hidden><div class=\"sk-item\"><div class=\"sk-estimator sk-toggleable\"><input class=\"sk-toggleable__control sk-hidden--visually\" id=\"sk-estimator-id-8\" type=\"checkbox\" checked><label for=\"sk-estimator-id-8\" class=\"sk-toggleable__label sk-toggleable__label-arrow\">LogisticRegression</label><div class=\"sk-toggleable__content\"><pre>LogisticRegression()</pre></div></div></div></div></div>"
            ],
            "text/plain": [
              "LogisticRegression()"
            ]
          },
          "execution_count": 147,
          "metadata": {},
          "output_type": "execute_result"
        }
      ],
      "source": [
        "# applying the Logistic Regression classifier to the training set\n",
        "log_reg = LogisticRegression()\n",
        "\n",
        "# training the Logistic Regression classifier\n",
        "log_reg.fit(X_train, y_train)"
      ]
    },
    {
      "cell_type": "code",
      "execution_count": 148,
      "metadata": {
        "id": "8skxUOwkJtAJ"
      },
      "outputs": [],
      "source": [
        "# predicting the target variable for the testing set\n",
        "y_test_pred = log_reg.predict(X_test)"
      ]
    },
    {
      "cell_type": "code",
      "execution_count": 149,
      "metadata": {
        "colab": {
          "base_uri": "https://localhost:8080/"
        },
        "id": "6_O4uQLNJtAP",
        "outputId": "8e58fb68-678e-490b-a006-3f933adf393e"
      },
      "outputs": [
        {
          "name": "stdout",
          "output_type": "stream",
          "text": [
            "Confusion Matrix: \n",
            "[[498  38]\n",
            " [ 43 275]]\n",
            "Accuracy:  0.905152224824356\n",
            "Precision:  0.8995559046376076\n",
            "Recall:  0.8969421759128884\n",
            "F1 Score:  0.898211707993237\n",
            "\n",
            "Classification Report: \n",
            "              precision    recall  f1-score   support\n",
            "\n",
            "           0       0.92      0.93      0.92       536\n",
            "           1       0.88      0.86      0.87       318\n",
            "\n",
            "    accuracy                           0.91       854\n",
            "   macro avg       0.90      0.90      0.90       854\n",
            "weighted avg       0.90      0.91      0.90       854\n",
            "\n"
          ]
        }
      ],
      "source": [
        "# evaluating the model\n",
        "\n",
        "# confusion matrix\n",
        "print(\"Confusion Matrix: \")\n",
        "print(confusion_matrix(y_test, y_test_pred))\n",
        "\n",
        "# accuracy of the model\n",
        "accuracy = accuracy_score(y_test, y_test_pred)\n",
        "print(\"Accuracy: \", accuracy)\n",
        "\n",
        "# precision of the model\n",
        "precision = precision_score(y_test, y_test_pred, average='macro')\n",
        "print(\"Precision: \", precision)\n",
        "\n",
        "# recall of the model\n",
        "recall = recall_score(y_test, y_test_pred, average='macro')\n",
        "print(\"Recall: \", recall)\n",
        "\n",
        "# f1 score of the model\n",
        "f1 = f1_score(y_test, y_test_pred, average='macro')\n",
        "print(\"F1 Score: \", f1)\n",
        "\n",
        "# classification report\n",
        "print(\"\\nClassification Report: \")\n",
        "print(classification_report(y_test, y_test_pred))\n",
        "\n",
        "#ROC curve\n",
        "if hasattr(log_reg, \"decision_function\"):\n",
        "        probas = log_reg.decision_function(X_test)\n",
        "else:\n",
        "    probas = log_reg.predict_proba(X_test)[:, 1]\n",
        "\n",
        "fpr, tpr, thresholds = roc_curve(y_test, probas)\n",
        "roc_auc = auc(fpr, tpr)\n",
        "\n",
        "#saving logistic regression performance metrics\n",
        "performance_metrics[\"Logistic Regression\"] = {\"Accuracy\":accuracy, \"Precision\":precision, \"Recall\":recall, \"F1 Score\":f1, \"FPR\":fpr, \"TPR\":tpr, \"Thresholds\":thresholds, \"ROC\":roc_auc}\n",
        "\n"
      ]
    },
    {
      "cell_type": "code",
      "execution_count": 150,
      "metadata": {
        "colab": {
          "base_uri": "https://localhost:8080/",
          "height": 466
        },
        "id": "Wjj61O_YJtAP",
        "outputId": "bfd0fbe9-8da9-4ec5-acbe-cdff81f3c057"
      },
      "outputs": [
        {
          "data": {
            "text/plain": [
              "<sklearn.metrics._plot.confusion_matrix.ConfusionMatrixDisplay at 0x27a67eece50>"
            ]
          },
          "execution_count": 150,
          "metadata": {},
          "output_type": "execute_result"
        },
        {
          "data": {
            "image/png": "[encoded data removed]",
            "text/plain": [
              "<Figure size 640x480 with 2 Axes>"
            ]
          },
          "metadata": {},
          "output_type": "display_data"
        }
      ],
      "source": [
        "# printing the colored confusion matrix\n",
        "cm = confusion_matrix(y_test, y_test_pred)\n",
        "cmd = ConfusionMatrixDisplay(cm, display_labels=['Rejected', 'Approved'])\n",
        "cmd.plot(cmap='Blues')"
      ]
    },
    {
      "cell_type": "markdown",
      "metadata": {
        "id": "hqLW5qjkJtAQ"
      },
      "source": [
        "#### K-Nearest Neighbours Model"
      ]
    },
    {
      "cell_type": "code",
      "execution_count": 151,
      "metadata": {
        "colab": {
          "base_uri": "https://localhost:8080/",
          "height": 74
        },
        "id": "9fqVZqcyJtAQ",
        "outputId": "50d769b8-62fb-4c16-c716-25e0f0584fe1"
      },
      "outputs": [
        {
          "data": {
            "text/html": [
              "<style>#sk-container-id-9 {color: black;background-color: white;}#sk-container-id-9 pre{padding: 0;}#sk-container-id-9 div.sk-toggleable {background-color: white;}#sk-container-id-9 label.sk-toggleable__label {cursor: pointer;display: block;width: 100%;margin-bottom: 0;padding: 0.3em;box-sizing: border-box;text-align: center;}#sk-container-id-9 label.sk-toggleable__label-arrow:before {content: \"▸\";float: left;margin-right: 0.25em;color: #696969;}#sk-container-id-9 label.sk-toggleable__label-arrow:hover:before {color: black;}#sk-container-id-9 div.sk-estimator:hover label.sk-toggleable__label-arrow:before {color: black;}#sk-container-id-9 div.sk-toggleable__content {max-height: 0;max-width: 0;overflow: hidden;text-align: left;background-color: #f0f8ff;}#sk-container-id-9 div.sk-toggleable__content pre {margin: 0.2em;color: black;border-radius: 0.25em;background-color: #f0f8ff;}#sk-container-id-9 input.sk-toggleable__control:checked~div.sk-toggleable__content {max-height: 200px;max-width: 100%;overflow: auto;}#sk-container-id-9 input.sk-toggleable__control:checked~label.sk-toggleable__label-arrow:before {content: \"▾\";}#sk-container-id-9 div.sk-estimator input.sk-toggleable__control:checked~label.sk-toggleable__label {background-color: #d4ebff;}#sk-container-id-9 div.sk-label input.sk-toggleable__control:checked~label.sk-toggleable__label {background-color: #d4ebff;}#sk-container-id-9 input.sk-hidden--visually {border: 0;clip: rect(1px 1px 1px 1px);clip: rect(1px, 1px, 1px, 1px);height: 1px;margin: -1px;overflow: hidden;padding: 0;position: absolute;width: 1px;}#sk-container-id-9 div.sk-estimator {font-family: monospace;background-color: #f0f8ff;border: 1px dotted black;border-radius: 0.25em;box-sizing: border-box;margin-bottom: 0.5em;}#sk-container-id-9 div.sk-estimator:hover {background-color: #d4ebff;}#sk-container-id-9 div.sk-parallel-item::after {content: \"\";width: 100%;border-bottom: 1px solid gray;flex-grow: 1;}#sk-container-id-9 div.sk-label:hover label.sk-toggleable__label {background-color: #d4ebff;}#sk-container-id-9 div.sk-serial::before {content: \"\";position: absolute;border-left: 1px solid gray;box-sizing: border-box;top: 0;bottom: 0;left: 50%;z-index: 0;}#sk-container-id-9 div.sk-serial {display: flex;flex-direction: column;align-items: center;background-color: white;padding-right: 0.2em;padding-left: 0.2em;position: relative;}#sk-container-id-9 div.sk-item {position: relative;z-index: 1;}#sk-container-id-9 div.sk-parallel {display: flex;align-items: stretch;justify-content: center;background-color: white;position: relative;}#sk-container-id-9 div.sk-item::before, #sk-container-id-9 div.sk-parallel-item::before {content: \"\";position: absolute;border-left: 1px solid gray;box-sizing: border-box;top: 0;bottom: 0;left: 50%;z-index: -1;}#sk-container-id-9 div.sk-parallel-item {display: flex;flex-direction: column;z-index: 1;position: relative;background-color: white;}#sk-container-id-9 div.sk-parallel-item:first-child::after {align-self: flex-end;width: 50%;}#sk-container-id-9 div.sk-parallel-item:last-child::after {align-self: flex-start;width: 50%;}#sk-container-id-9 div.sk-parallel-item:only-child::after {width: 0;}#sk-container-id-9 div.sk-dashed-wrapped {border: 1px dashed gray;margin: 0 0.4em 0.5em 0.4em;box-sizing: border-box;padding-bottom: 0.4em;background-color: white;}#sk-container-id-9 div.sk-label label {font-family: monospace;font-weight: bold;display: inline-block;line-height: 1.2em;}#sk-container-id-9 div.sk-label-container {text-align: center;}#sk-container-id-9 div.sk-container {/* jupyter's `normalize.less` sets `[hidden] { display: none; }` but bootstrap.min.css set `[hidden] { display: none !important; }` so we also need the `!important` here to be able to override the default hidden behavior on the sphinx rendered scikit-learn.org. See: https://github.com/scikit-learn/scikit-learn/issues/21755 */display: inline-block !important;position: relative;}#sk-container-id-9 div.sk-text-repr-fallback {display: none;}</style><div id=\"sk-container-id-9\" class=\"sk-top-container\"><div class=\"sk-text-repr-fallback\"><pre>KNeighborsClassifier()</pre><b>In a Jupyter environment, please rerun this cell to show the HTML representation or trust the notebook. <br />On GitHub, the HTML representation is unable to render, please try loading this page with nbviewer.org.</b></div><div class=\"sk-container\" hidden><div class=\"sk-item\"><div class=\"sk-estimator sk-toggleable\"><input class=\"sk-toggleable__control sk-hidden--visually\" id=\"sk-estimator-id-9\" type=\"checkbox\" checked><label for=\"sk-estimator-id-9\" class=\"sk-toggleable__label sk-toggleable__label-arrow\">KNeighborsClassifier</label><div class=\"sk-toggleable__content\"><pre>KNeighborsClassifier()</pre></div></div></div></div></div>"
            ],
            "text/plain": [
              "KNeighborsClassifier()"
            ]
          },
          "execution_count": 151,
          "metadata": {},
          "output_type": "execute_result"
        }
      ],
      "source": [
        "# applying the K-Nearest Neighbors classifier to the training set\n",
        "knn = KNeighborsClassifier()\n",
        "\n",
        "# training the K-Nearest Neighbors classifier\n",
        "knn.fit(X_train, y_train)\n"
      ]
    },
    {
      "cell_type": "code",
      "execution_count": 152,
      "metadata": {
        "id": "qGt_AbqMJtAQ"
      },
      "outputs": [],
      "source": [
        "# predicting the target variable for the testing set\n",
        "y_test_pred = knn.predict(X_test)"
      ]
    },
    {
      "cell_type": "code",
      "execution_count": 153,
      "metadata": {
        "colab": {
          "base_uri": "https://localhost:8080/"
        },
        "id": "qlXBbbRCJtAQ",
        "outputId": "16cd6430-edc1-46db-a6a8-99da042eaf58"
      },
      "outputs": [
        {
          "name": "stdout",
          "output_type": "stream",
          "text": [
            "Confusion Matrix: \n",
            "[[485  51]\n",
            " [ 35 283]]\n",
            "Accuracy:  0.8992974238875878\n",
            "Precision:  0.8899988484569323\n",
            "Recall:  0.8973939265934479\n",
            "F1 Score:  0.8933293827849043\n",
            "\n",
            "Classification Report: \n",
            "              precision    recall  f1-score   support\n",
            "\n",
            "           0       0.93      0.90      0.92       536\n",
            "           1       0.85      0.89      0.87       318\n",
            "\n",
            "    accuracy                           0.90       854\n",
            "   macro avg       0.89      0.90      0.89       854\n",
            "weighted avg       0.90      0.90      0.90       854\n",
            "\n"
          ]
        }
      ],
      "source": [
        "# evaluating the model\n",
        "\n",
        "# confusion matrix\n",
        "print(\"Confusion Matrix: \")\n",
        "print(confusion_matrix(y_test, y_test_pred))\n",
        "\n",
        "# accuracy of the model\n",
        "accuracy = accuracy_score(y_test, y_test_pred)\n",
        "print(\"Accuracy: \", accuracy)\n",
        "\n",
        "# precision of the model\n",
        "precision = precision_score(y_test, y_test_pred, average='macro')\n",
        "print(\"Precision: \", precision)\n",
        "\n",
        "# recall of the model\n",
        "recall = recall_score(y_test, y_test_pred, average='macro')\n",
        "print(\"Recall: \", recall)\n",
        "\n",
        "# f1 score of the model\n",
        "f1 = f1_score(y_test, y_test_pred, average='macro')\n",
        "print(\"F1 Score: \", f1)\n",
        "\n",
        "# classification report\n",
        "print(\"\\nClassification Report: \")\n",
        "print(classification_report(y_test, y_test_pred))\n",
        "\n",
        "#ROC curve\n",
        "if hasattr(knn, \"decision_function\"):\n",
        "        probas = knn.decision_function(X_test)\n",
        "else:\n",
        "    probas = knn.predict_proba(X_test)[:, 1]\n",
        "\n",
        "fpr, tpr, thresholds = roc_curve(y_test, probas)\n",
        "roc_auc = auc(fpr, tpr)\n",
        "\n",
        "#saving K nearest neighbours performance metrics\n",
        "performance_metrics[\"K Nearest Neighbour\"] = {\"Accuracy\":accuracy, \"Precision\":precision, \"Recall\":recall, \"F1 Score\":f1, \"FPR\":fpr, \"TPR\":tpr, \"Thresholds\":thresholds, \"ROC\":roc_auc}\n"
      ]
    },
    {
      "cell_type": "code",
      "execution_count": 154,
      "metadata": {
        "colab": {
          "base_uri": "https://localhost:8080/",
          "height": 466
        },
        "id": "Le2biz7eJtAR",
        "outputId": "33a58edb-2241-425a-86f7-5a18a52cdb50"
      },
      "outputs": [
        {
          "data": {
            "text/plain": [
              "<sklearn.metrics._plot.confusion_matrix.ConfusionMatrixDisplay at 0x27a6da59510>"
            ]
          },
          "execution_count": 154,
          "metadata": {},
          "output_type": "execute_result"
        },
        {
          "data": {
            "image/png": "[encoded data removed]",
            "text/plain": [
              "<Figure size 640x480 with 2 Axes>"
            ]
          },
          "metadata": {},
          "output_type": "display_data"
        }
      ],
      "source": [
        "# printing the colored confusion matrix\n",
        "cm = confusion_matrix(y_test, y_test_pred)\n",
        "cmd = ConfusionMatrixDisplay(cm, display_labels=['Rejected', 'Approved'])\n",
        "cmd.plot(cmap='Blues')"
      ]
    },
    {
      "cell_type": "markdown",
      "metadata": {
        "id": "oCfHSPFUJtAR"
      },
      "source": [
        "#### Decision Tree Model"
      ]
    },
    {
      "cell_type": "code",
      "execution_count": 155,
      "metadata": {
        "colab": {
          "base_uri": "https://localhost:8080/",
          "height": 74
        },
        "id": "tgCwyKRxJtAR",
        "outputId": "928fe747-faeb-47c3-8870-bf7f2bfc1009"
      },
      "outputs": [
        {
          "data": {
            "text/html": [
              "<style>#sk-container-id-10 {color: black;background-color: white;}#sk-container-id-10 pre{padding: 0;}#sk-container-id-10 div.sk-toggleable {background-color: white;}#sk-container-id-10 label.sk-toggleable__label {cursor: pointer;display: block;width: 100%;margin-bottom: 0;padding: 0.3em;box-sizing: border-box;text-align: center;}#sk-container-id-10 label.sk-toggleable__label-arrow:before {content: \"▸\";float: left;margin-right: 0.25em;color: #696969;}#sk-container-id-10 label.sk-toggleable__label-arrow:hover:before {color: black;}#sk-container-id-10 div.sk-estimator:hover label.sk-toggleable__label-arrow:before {color: black;}#sk-container-id-10 div.sk-toggleable__content {max-height: 0;max-width: 0;overflow: hidden;text-align: left;background-color: #f0f8ff;}#sk-container-id-10 div.sk-toggleable__content pre {margin: 0.2em;color: black;border-radius: 0.25em;background-color: #f0f8ff;}#sk-container-id-10 input.sk-toggleable__control:checked~div.sk-toggleable__content {max-height: 200px;max-width: 100%;overflow: auto;}#sk-container-id-10 input.sk-toggleable__control:checked~label.sk-toggleable__label-arrow:before {content: \"▾\";}#sk-container-id-10 div.sk-estimator input.sk-toggleable__control:checked~label.sk-toggleable__label {background-color: #d4ebff;}#sk-container-id-10 div.sk-label input.sk-toggleable__control:checked~label.sk-toggleable__label {background-color: #d4ebff;}#sk-container-id-10 input.sk-hidden--visually {border: 0;clip: rect(1px 1px 1px 1px);clip: rect(1px, 1px, 1px, 1px);height: 1px;margin: -1px;overflow: hidden;padding: 0;position: absolute;width: 1px;}#sk-container-id-10 div.sk-estimator {font-family: monospace;background-color: #f0f8ff;border: 1px dotted black;border-radius: 0.25em;box-sizing: border-box;margin-bottom: 0.5em;}#sk-container-id-10 div.sk-estimator:hover {background-color: #d4ebff;}#sk-container-id-10 div.sk-parallel-item::after {content: \"\";width: 100%;border-bottom: 1px solid gray;flex-grow: 1;}#sk-container-id-10 div.sk-label:hover label.sk-toggleable__label {background-color: #d4ebff;}#sk-container-id-10 div.sk-serial::before {content: \"\";position: absolute;border-left: 1px solid gray;box-sizing: border-box;top: 0;bottom: 0;left: 50%;z-index: 0;}#sk-container-id-10 div.sk-serial {display: flex;flex-direction: column;align-items: center;background-color: white;padding-right: 0.2em;padding-left: 0.2em;position: relative;}#sk-container-id-10 div.sk-item {position: relative;z-index: 1;}#sk-container-id-10 div.sk-parallel {display: flex;align-items: stretch;justify-content: center;background-color: white;position: relative;}#sk-container-id-10 div.sk-item::before, #sk-container-id-10 div.sk-parallel-item::before {content: \"\";position: absolute;border-left: 1px solid gray;box-sizing: border-box;top: 0;bottom: 0;left: 50%;z-index: -1;}#sk-container-id-10 div.sk-parallel-item {display: flex;flex-direction: column;z-index: 1;position: relative;background-color: white;}#sk-container-id-10 div.sk-parallel-item:first-child::after {align-self: flex-end;width: 50%;}#sk-container-id-10 div.sk-parallel-item:last-child::after {align-self: flex-start;width: 50%;}#sk-container-id-10 div.sk-parallel-item:only-child::after {width: 0;}#sk-container-id-10 div.sk-dashed-wrapped {border: 1px dashed gray;margin: 0 0.4em 0.5em 0.4em;box-sizing: border-box;padding-bottom: 0.4em;background-color: white;}#sk-container-id-10 div.sk-label label {font-family: monospace;font-weight: bold;display: inline-block;line-height: 1.2em;}#sk-container-id-10 div.sk-label-container {text-align: center;}#sk-container-id-10 div.sk-container {/* jupyter's `normalize.less` sets `[hidden] { display: none; }` but bootstrap.min.css set `[hidden] { display: none !important; }` so we also need the `!important` here to be able to override the default hidden behavior on the sphinx rendered scikit-learn.org. See: https://github.com/scikit-learn/scikit-learn/issues/21755 */display: inline-block !important;position: relative;}#sk-container-id-10 div.sk-text-repr-fallback {display: none;}</style><div id=\"sk-container-id-10\" class=\"sk-top-container\"><div class=\"sk-text-repr-fallback\"><pre>DecisionTreeClassifier()</pre><b>In a Jupyter environment, please rerun this cell to show the HTML representation or trust the notebook. <br />On GitHub, the HTML representation is unable to render, please try loading this page with nbviewer.org.</b></div><div class=\"sk-container\" hidden><div class=\"sk-item\"><div class=\"sk-estimator sk-toggleable\"><input class=\"sk-toggleable__control sk-hidden--visually\" id=\"sk-estimator-id-10\" type=\"checkbox\" checked><label for=\"sk-estimator-id-10\" class=\"sk-toggleable__label sk-toggleable__label-arrow\">DecisionTreeClassifier</label><div class=\"sk-toggleable__content\"><pre>DecisionTreeClassifier()</pre></div></div></div></div></div>"
            ],
            "text/plain": [
              "DecisionTreeClassifier()"
            ]
          },
          "execution_count": 155,
          "metadata": {},
          "output_type": "execute_result"
        }
      ],
      "source": [
        "# applying the Decision Tree classifier to the training set\n",
        "decision_tree = DecisionTreeClassifier()\n",
        "\n",
        "# training the Decision Tree classifier\n",
        "decision_tree.fit(X_train, y_train)"
      ]
    },
    {
      "cell_type": "code",
      "execution_count": 156,
      "metadata": {
        "id": "bOjF9QpmJtAR"
      },
      "outputs": [],
      "source": [
        "# predicting the target variable for the testing set\n",
        "y_test_pred = knn.predict(X_test)"
      ]
    },
    {
      "cell_type": "code",
      "execution_count": 157,
      "metadata": {
        "colab": {
          "base_uri": "https://localhost:8080/"
        },
        "id": "GIOKq4ZsJtAS",
        "outputId": "0c7c8991-1827-4023-c66b-4aeb4c54c413"
      },
      "outputs": [
        {
          "name": "stdout",
          "output_type": "stream",
          "text": [
            "Confusion Matrix: \n",
            "[[485  51]\n",
            " [ 35 283]]\n",
            "Accuracy:  0.8992974238875878\n",
            "Precision:  0.8899988484569323\n",
            "Recall:  0.8973939265934479\n",
            "F1 Score:  0.8933293827849043\n",
            "\n",
            "Classification Report: \n",
            "              precision    recall  f1-score   support\n",
            "\n",
            "           0       0.93      0.90      0.92       536\n",
            "           1       0.85      0.89      0.87       318\n",
            "\n",
            "    accuracy                           0.90       854\n",
            "   macro avg       0.89      0.90      0.89       854\n",
            "weighted avg       0.90      0.90      0.90       854\n",
            "\n"
          ]
        }
      ],
      "source": [
        "# evaluating the model\n",
        "\n",
        "# confusion matrix\n",
        "print(\"Confusion Matrix: \")\n",
        "print(confusion_matrix(y_test, y_test_pred))\n",
        "\n",
        "# accuracy of the model\n",
        "accuracy = accuracy_score(y_test, y_test_pred)\n",
        "print(\"Accuracy: \", accuracy)\n",
        "\n",
        "# precision of the model\n",
        "precision = precision_score(y_test, y_test_pred, average='macro')\n",
        "print(\"Precision: \", precision)\n",
        "\n",
        "# recall of the model\n",
        "recall = recall_score(y_test, y_test_pred, average='macro')\n",
        "print(\"Recall: \", recall)\n",
        "\n",
        "# f1 score of the model\n",
        "f1 = f1_score(y_test, y_test_pred, average='macro')\n",
        "print(\"F1 Score: \", f1)\n",
        "\n",
        "# classification report\n",
        "print(\"\\nClassification Report: \")\n",
        "print(classification_report(y_test, y_test_pred))\n",
        "\n",
        "#ROC curve\n",
        "if hasattr(decision_tree, \"decision_function\"):\n",
        "        probas = decision_tree.decision_function(X_test)\n",
        "else:\n",
        "    probas = decision_tree.predict_proba(X_test)[:, 1]\n",
        "\n",
        "fpr, tpr, thresholds = roc_curve(y_test, probas)\n",
        "roc_auc = auc(fpr, tpr)\n",
        "\n",
        "#saving Decision Tree performance metrics\n",
        "performance_metrics[\"Decision Tree\"] = {\"Accuracy\":accuracy, \"Precision\":precision, \"Recall\":recall, \"F1 Score\":f1, \"FPR\":fpr, \"TPR\":tpr, \"Thresholds\":thresholds, \"ROC\":roc_auc}\n"
      ]
    },
    {
      "cell_type": "code",
      "execution_count": 158,
      "metadata": {
        "colab": {
          "base_uri": "https://localhost:8080/",
          "height": 466
        },
        "id": "OUPMSKdnJtAS",
        "outputId": "ad91cdf1-24ec-455a-f60d-0d86b09bd1c0"
      },
      "outputs": [
        {
          "data": {
            "text/plain": [
              "<sklearn.metrics._plot.confusion_matrix.ConfusionMatrixDisplay at 0x27a6d908a50>"
            ]
          },
          "execution_count": 158,
          "metadata": {},
          "output_type": "execute_result"
        },
        {
          "data": {
            "image/png": "[encoded data removed]",
            "text/plain": [
              "<Figure size 640x480 with 2 Axes>"
            ]
          },
          "metadata": {},
          "output_type": "display_data"
        }
      ],
      "source": [
        "# printing the colored confusion matrix\n",
        "cm = confusion_matrix(y_test, y_test_pred)\n",
        "cmd = ConfusionMatrixDisplay(cm, display_labels=['Rejected', 'Approved'])\n",
        "cmd.plot(cmap='Blues')"
      ]
    },
    {
      "cell_type": "markdown",
      "metadata": {
        "id": "uWoj_efWJtAS"
      },
      "source": [
        "#### Support Vector Machine Model"
      ]
    },
    {
      "cell_type": "code",
      "execution_count": 159,
      "metadata": {
        "colab": {
          "base_uri": "https://localhost:8080/",
          "height": 74
        },
        "id": "tVzSnZ27JtAS",
        "outputId": "50ad1f23-314f-4e08-f52c-1b9afaaf5966"
      },
      "outputs": [
        {
          "data": {
            "text/html": [
              "<style>#sk-container-id-11 {color: black;background-color: white;}#sk-container-id-11 pre{padding: 0;}#sk-container-id-11 div.sk-toggleable {background-color: white;}#sk-container-id-11 label.sk-toggleable__label {cursor: pointer;display: block;width: 100%;margin-bottom: 0;padding: 0.3em;box-sizing: border-box;text-align: center;}#sk-container-id-11 label.sk-toggleable__label-arrow:before {content: \"▸\";float: left;margin-right: 0.25em;color: #696969;}#sk-container-id-11 label.sk-toggleable__label-arrow:hover:before {color: black;}#sk-container-id-11 div.sk-estimator:hover label.sk-toggleable__label-arrow:before {color: black;}#sk-container-id-11 div.sk-toggleable__content {max-height: 0;max-width: 0;overflow: hidden;text-align: left;background-color: #f0f8ff;}#sk-container-id-11 div.sk-toggleable__content pre {margin: 0.2em;color: black;border-radius: 0.25em;background-color: #f0f8ff;}#sk-container-id-11 input.sk-toggleable__control:checked~div.sk-toggleable__content {max-height: 200px;max-width: 100%;overflow: auto;}#sk-container-id-11 input.sk-toggleable__control:checked~label.sk-toggleable__label-arrow:before {content: \"▾\";}#sk-container-id-11 div.sk-estimator input.sk-toggleable__control:checked~label.sk-toggleable__label {background-color: #d4ebff;}#sk-container-id-11 div.sk-label input.sk-toggleable__control:checked~label.sk-toggleable__label {background-color: #d4ebff;}#sk-container-id-11 input.sk-hidden--visually {border: 0;clip: rect(1px 1px 1px 1px);clip: rect(1px, 1px, 1px, 1px);height: 1px;margin: -1px;overflow: hidden;padding: 0;position: absolute;width: 1px;}#sk-container-id-11 div.sk-estimator {font-family: monospace;background-color: #f0f8ff;border: 1px dotted black;border-radius: 0.25em;box-sizing: border-box;margin-bottom: 0.5em;}#sk-container-id-11 div.sk-estimator:hover {background-color: #d4ebff;}#sk-container-id-11 div.sk-parallel-item::after {content: \"\";width: 100%;border-bottom: 1px solid gray;flex-grow: 1;}#sk-container-id-11 div.sk-label:hover label.sk-toggleable__label {background-color: #d4ebff;}#sk-container-id-11 div.sk-serial::before {content: \"\";position: absolute;border-left: 1px solid gray;box-sizing: border-box;top: 0;bottom: 0;left: 50%;z-index: 0;}#sk-container-id-11 div.sk-serial {display: flex;flex-direction: column;align-items: center;background-color: white;padding-right: 0.2em;padding-left: 0.2em;position: relative;}#sk-container-id-11 div.sk-item {position: relative;z-index: 1;}#sk-container-id-11 div.sk-parallel {display: flex;align-items: stretch;justify-content: center;background-color: white;position: relative;}#sk-container-id-11 div.sk-item::before, #sk-container-id-11 div.sk-parallel-item::before {content: \"\";position: absolute;border-left: 1px solid gray;box-sizing: border-box;top: 0;bottom: 0;left: 50%;z-index: -1;}#sk-container-id-11 div.sk-parallel-item {display: flex;flex-direction: column;z-index: 1;position: relative;background-color: white;}#sk-container-id-11 div.sk-parallel-item:first-child::after {align-self: flex-end;width: 50%;}#sk-container-id-11 div.sk-parallel-item:last-child::after {align-self: flex-start;width: 50%;}#sk-container-id-11 div.sk-parallel-item:only-child::after {width: 0;}#sk-container-id-11 div.sk-dashed-wrapped {border: 1px dashed gray;margin: 0 0.4em 0.5em 0.4em;box-sizing: border-box;padding-bottom: 0.4em;background-color: white;}#sk-container-id-11 div.sk-label label {font-family: monospace;font-weight: bold;display: inline-block;line-height: 1.2em;}#sk-container-id-11 div.sk-label-container {text-align: center;}#sk-container-id-11 div.sk-container {/* jupyter's `normalize.less` sets `[hidden] { display: none; }` but bootstrap.min.css set `[hidden] { display: none !important; }` so we also need the `!important` here to be able to override the default hidden behavior on the sphinx rendered scikit-learn.org. See: https://github.com/scikit-learn/scikit-learn/issues/21755 */display: inline-block !important;position: relative;}#sk-container-id-11 div.sk-text-repr-fallback {display: none;}</style><div id=\"sk-container-id-11\" class=\"sk-top-container\"><div class=\"sk-text-repr-fallback\"><pre>SVC()</pre><b>In a Jupyter environment, please rerun this cell to show the HTML representation or trust the notebook. <br />On GitHub, the HTML representation is unable to render, please try loading this page with nbviewer.org.</b></div><div class=\"sk-container\" hidden><div class=\"sk-item\"><div class=\"sk-estimator sk-toggleable\"><input class=\"sk-toggleable__control sk-hidden--visually\" id=\"sk-estimator-id-11\" type=\"checkbox\" checked><label for=\"sk-estimator-id-11\" class=\"sk-toggleable__label sk-toggleable__label-arrow\">SVC</label><div class=\"sk-toggleable__content\"><pre>SVC()</pre></div></div></div></div></div>"
            ],
            "text/plain": [
              "SVC()"
            ]
          },
          "execution_count": 159,
          "metadata": {},
          "output_type": "execute_result"
        }
      ],
      "source": [
        "# applying the Support Vector Machine classifier to the training set\n",
        "svm = SVC()\n",
        "\n",
        "# training the Support Vector Machine classifier\n",
        "svm.fit(X_train, y_train)"
      ]
    },
    {
      "cell_type": "code",
      "execution_count": 160,
      "metadata": {
        "id": "-L9Da0PEJtAT"
      },
      "outputs": [],
      "source": [
        "# predicting the target variable for the testing set\n",
        "y_test_pred = knn.predict(X_test)"
      ]
    },
    {
      "cell_type": "code",
      "execution_count": 161,
      "metadata": {
        "colab": {
          "base_uri": "https://localhost:8080/"
        },
        "id": "lRkHEdS0JtAT",
        "outputId": "7c1a3157-aca7-40f4-9086-115e040be878"
      },
      "outputs": [
        {
          "name": "stdout",
          "output_type": "stream",
          "text": [
            "Confusion Matrix: \n",
            "[[485  51]\n",
            " [ 35 283]]\n",
            "Accuracy:  0.8992974238875878\n",
            "Precision:  0.8899988484569323\n",
            "Recall:  0.8973939265934479\n",
            "F1 Score:  0.8933293827849043\n",
            "\n",
            "Classification Report: \n",
            "              precision    recall  f1-score   support\n",
            "\n",
            "           0       0.93      0.90      0.92       536\n",
            "           1       0.85      0.89      0.87       318\n",
            "\n",
            "    accuracy                           0.90       854\n",
            "   macro avg       0.89      0.90      0.89       854\n",
            "weighted avg       0.90      0.90      0.90       854\n",
            "\n"
          ]
        }
      ],
      "source": [
        "# evaluating the model\n",
        "\n",
        "# confusion matrix\n",
        "print(\"Confusion Matrix: \")\n",
        "print(confusion_matrix(y_test, y_test_pred))\n",
        "\n",
        "# accuracy of the model\n",
        "accuracy = accuracy_score(y_test, y_test_pred)\n",
        "print(\"Accuracy: \", accuracy)\n",
        "\n",
        "# precision of the model\n",
        "precision = precision_score(y_test, y_test_pred, average='macro')\n",
        "print(\"Precision: \", precision)\n",
        "\n",
        "# recall of the model\n",
        "recall = recall_score(y_test, y_test_pred, average='macro')\n",
        "print(\"Recall: \", recall)\n",
        "\n",
        "# f1 score of the model\n",
        "f1 = f1_score(y_test, y_test_pred, average='macro')\n",
        "print(\"F1 Score: \", f1)\n",
        "\n",
        "# classification report\n",
        "print(\"\\nClassification Report: \")\n",
        "print(classification_report(y_test, y_test_pred))\n",
        "\n",
        "#ROC curve\n",
        "if hasattr(svm, \"decision_function\"):\n",
        "        probas = svm.decision_function(X_test)\n",
        "else:\n",
        "    probas = svm.predict_proba(X_test)[:, 1]\n",
        "\n",
        "fpr, tpr, thresholds = roc_curve(y_test, probas)\n",
        "roc_auc = auc(fpr, tpr)\n",
        "\n",
        "#saving support vector machine performance metrics\n",
        "performance_metrics[\"Support Vector Machine\"] = {\"Accuracy\":accuracy, \"Precision\":precision, \"Recall\":recall, \"F1 Score\":f1, \"FPR\":fpr, \"TPR\":tpr, \"Thresholds\":thresholds, \"ROC\":roc_auc}\n"
      ]
    },
    {
      "cell_type": "code",
      "execution_count": 162,
      "metadata": {
        "colab": {
          "base_uri": "https://localhost:8080/",
          "height": 466
        },
        "id": "PPfF7CKOJtAT",
        "outputId": "9834dadc-8d19-4a7a-bb1b-a9719cc05f39"
      },
      "outputs": [
        {
          "data": {
            "text/plain": [
              "<sklearn.metrics._plot.confusion_matrix.ConfusionMatrixDisplay at 0x27a6dbfea10>"
            ]
          },
          "execution_count": 162,
          "metadata": {},
          "output_type": "execute_result"
        },
        {
          "data": {
            "image/png": "[encoded data removed]",
            "text/plain": [
              "<Figure size 640x480 with 2 Axes>"
            ]
          },
          "metadata": {},
          "output_type": "display_data"
        }
      ],
      "source": [
        "# printing the colored confusion matrix\n",
        "cm = confusion_matrix(y_test, y_test_pred)\n",
        "cmd = ConfusionMatrixDisplay(cm, display_labels=['Rejected', 'Approved'])\n",
        "cmd.plot(cmap='Blues')"
      ]
    },
    {
      "cell_type": "markdown",
      "metadata": {
        "id": "xppZdCpaJtAT"
      },
      "source": [
        "#### Naive Bayes Model"
      ]
    },
    {
      "cell_type": "code",
      "execution_count": 163,
      "metadata": {
        "colab": {
          "base_uri": "https://localhost:8080/",
          "height": 74
        },
        "id": "Ym--4ss2JtAT",
        "outputId": "db015e1a-935d-473e-cfeb-f4b8ec2126b0"
      },
      "outputs": [
        {
          "data": {
            "text/html": [
              "<style>#sk-container-id-12 {color: black;background-color: white;}#sk-container-id-12 pre{padding: 0;}#sk-container-id-12 div.sk-toggleable {background-color: white;}#sk-container-id-12 label.sk-toggleable__label {cursor: pointer;display: block;width: 100%;margin-bottom: 0;padding: 0.3em;box-sizing: border-box;text-align: center;}#sk-container-id-12 label.sk-toggleable__label-arrow:before {content: \"▸\";float: left;margin-right: 0.25em;color: #696969;}#sk-container-id-12 label.sk-toggleable__label-arrow:hover:before {color: black;}#sk-container-id-12 div.sk-estimator:hover label.sk-toggleable__label-arrow:before {color: black;}#sk-container-id-12 div.sk-toggleable__content {max-height: 0;max-width: 0;overflow: hidden;text-align: left;background-color: #f0f8ff;}#sk-container-id-12 div.sk-toggleable__content pre {margin: 0.2em;color: black;border-radius: 0.25em;background-color: #f0f8ff;}#sk-container-id-12 input.sk-toggleable__control:checked~div.sk-toggleable__content {max-height: 200px;max-width: 100%;overflow: auto;}#sk-container-id-12 input.sk-toggleable__control:checked~label.sk-toggleable__label-arrow:before {content: \"▾\";}#sk-container-id-12 div.sk-estimator input.sk-toggleable__control:checked~label.sk-toggleable__label {background-color: #d4ebff;}#sk-container-id-12 div.sk-label input.sk-toggleable__control:checked~label.sk-toggleable__label {background-color: #d4ebff;}#sk-container-id-12 input.sk-hidden--visually {border: 0;clip: rect(1px 1px 1px 1px);clip: rect(1px, 1px, 1px, 1px);height: 1px;margin: -1px;overflow: hidden;padding: 0;position: absolute;width: 1px;}#sk-container-id-12 div.sk-estimator {font-family: monospace;background-color: #f0f8ff;border: 1px dotted black;border-radius: 0.25em;box-sizing: border-box;margin-bottom: 0.5em;}#sk-container-id-12 div.sk-estimator:hover {background-color: #d4ebff;}#sk-container-id-12 div.sk-parallel-item::after {content: \"\";width: 100%;border-bottom: 1px solid gray;flex-grow: 1;}#sk-container-id-12 div.sk-label:hover label.sk-toggleable__label {background-color: #d4ebff;}#sk-container-id-12 div.sk-serial::before {content: \"\";position: absolute;border-left: 1px solid gray;box-sizing: border-box;top: 0;bottom: 0;left: 50%;z-index: 0;}#sk-container-id-12 div.sk-serial {display: flex;flex-direction: column;align-items: center;background-color: white;padding-right: 0.2em;padding-left: 0.2em;position: relative;}#sk-container-id-12 div.sk-item {position: relative;z-index: 1;}#sk-container-id-12 div.sk-parallel {display: flex;align-items: stretch;justify-content: center;background-color: white;position: relative;}#sk-container-id-12 div.sk-item::before, #sk-container-id-12 div.sk-parallel-item::before {content: \"\";position: absolute;border-left: 1px solid gray;box-sizing: border-box;top: 0;bottom: 0;left: 50%;z-index: -1;}#sk-container-id-12 div.sk-parallel-item {display: flex;flex-direction: column;z-index: 1;position: relative;background-color: white;}#sk-container-id-12 div.sk-parallel-item:first-child::after {align-self: flex-end;width: 50%;}#sk-container-id-12 div.sk-parallel-item:last-child::after {align-self: flex-start;width: 50%;}#sk-container-id-12 div.sk-parallel-item:only-child::after {width: 0;}#sk-container-id-12 div.sk-dashed-wrapped {border: 1px dashed gray;margin: 0 0.4em 0.5em 0.4em;box-sizing: border-box;padding-bottom: 0.4em;background-color: white;}#sk-container-id-12 div.sk-label label {font-family: monospace;font-weight: bold;display: inline-block;line-height: 1.2em;}#sk-container-id-12 div.sk-label-container {text-align: center;}#sk-container-id-12 div.sk-container {/* jupyter's `normalize.less` sets `[hidden] { display: none; }` but bootstrap.min.css set `[hidden] { display: none !important; }` so we also need the `!important` here to be able to override the default hidden behavior on the sphinx rendered scikit-learn.org. See: https://github.com/scikit-learn/scikit-learn/issues/21755 */display: inline-block !important;position: relative;}#sk-container-id-12 div.sk-text-repr-fallback {display: none;}</style><div id=\"sk-container-id-12\" class=\"sk-top-container\"><div class=\"sk-text-repr-fallback\"><pre>GaussianNB()</pre><b>In a Jupyter environment, please rerun this cell to show the HTML representation or trust the notebook. <br />On GitHub, the HTML representation is unable to render, please try loading this page with nbviewer.org.</b></div><div class=\"sk-container\" hidden><div class=\"sk-item\"><div class=\"sk-estimator sk-toggleable\"><input class=\"sk-toggleable__control sk-hidden--visually\" id=\"sk-estimator-id-12\" type=\"checkbox\" checked><label for=\"sk-estimator-id-12\" class=\"sk-toggleable__label sk-toggleable__label-arrow\">GaussianNB</label><div class=\"sk-toggleable__content\"><pre>GaussianNB()</pre></div></div></div></div></div>"
            ],
            "text/plain": [
              "GaussianNB()"
            ]
          },
          "execution_count": 163,
          "metadata": {},
          "output_type": "execute_result"
        }
      ],
      "source": [
        "# applying the Gaussian Naive Bayes classifier to the training set\n",
        "gaussian_nb = GaussianNB()\n",
        "\n",
        "# training the Gaussian Naive Bayes classifier\n",
        "gaussian_nb.fit(X_train, y_train)"
      ]
    },
    {
      "cell_type": "code",
      "execution_count": 164,
      "metadata": {
        "id": "cyYJM0tKJtAU"
      },
      "outputs": [],
      "source": [
        "# predicting the target variable for the testing set\n",
        "y_test_pred = knn.predict(X_test)"
      ]
    },
    {
      "cell_type": "code",
      "execution_count": 165,
      "metadata": {
        "colab": {
          "base_uri": "https://localhost:8080/"
        },
        "id": "oNH59oN5JtAU",
        "outputId": "aa8c3ad0-2549-4d61-8aec-f4e7370856d4"
      },
      "outputs": [
        {
          "name": "stdout",
          "output_type": "stream",
          "text": [
            "Confusion Matrix: \n",
            "[[485  51]\n",
            " [ 35 283]]\n",
            "Accuracy:  0.8992974238875878\n",
            "Precision:  0.8899988484569323\n",
            "Recall:  0.8973939265934479\n",
            "F1 Score:  0.8933293827849043\n",
            "\n",
            "Classification Report: \n",
            "              precision    recall  f1-score   support\n",
            "\n",
            "           0       0.93      0.90      0.92       536\n",
            "           1       0.85      0.89      0.87       318\n",
            "\n",
            "    accuracy                           0.90       854\n",
            "   macro avg       0.89      0.90      0.89       854\n",
            "weighted avg       0.90      0.90      0.90       854\n",
            "\n"
          ]
        }
      ],
      "source": [
        "# evaluating the model\n",
        "\n",
        "# confusion matrix\n",
        "print(\"Confusion Matrix: \")\n",
        "print(confusion_matrix(y_test, y_test_pred))\n",
        "\n",
        "# accuracy of the model\n",
        "accuracy = accuracy_score(y_test, y_test_pred)\n",
        "print(\"Accuracy: \", accuracy)\n",
        "\n",
        "# precision of the model\n",
        "precision = precision_score(y_test, y_test_pred, average='macro')\n",
        "print(\"Precision: \", precision)\n",
        "\n",
        "# recall of the model\n",
        "recall = recall_score(y_test, y_test_pred, average='macro')\n",
        "print(\"Recall: \", recall)\n",
        "\n",
        "# f1 score of the model\n",
        "f1 = f1_score(y_test, y_test_pred, average='macro')\n",
        "print(\"F1 Score: \", f1)\n",
        "\n",
        "# classification report\n",
        "print(\"\\nClassification Report: \")\n",
        "print(classification_report(y_test, y_test_pred))\n",
        "\n",
        "#ROC curve\n",
        "if hasattr(gaussian_nb, \"decision_function\"):\n",
        "        probas = gaussian_nb.decision_function(X_test)\n",
        "else:\n",
        "    probas = gaussian_nb.predict_proba(X_test)[:, 1]\n",
        "\n",
        "fpr, tpr, thresholds = roc_curve(y_test, probas)\n",
        "roc_auc = auc(fpr, tpr)\n",
        "\n",
        "#saving Gaussian NB performance metrics\n",
        "performance_metrics[\"Gaussian NB\"] = {\"Accuracy\":accuracy, \"Precision\":precision, \"Recall\":recall, \"F1 Score\":f1, \"FPR\":fpr, \"TPR\":tpr, \"Thresholds\":thresholds, \"ROC\":roc_auc}\n"
      ]
    },
    {
      "cell_type": "code",
      "execution_count": 166,
      "metadata": {
        "colab": {
          "base_uri": "https://localhost:8080/",
          "height": 466
        },
        "id": "R3nvIxkSJtAU",
        "outputId": "08086ac4-021a-444b-c136-908dcf597c91"
      },
      "outputs": [
        {
          "data": {
            "text/plain": [
              "<sklearn.metrics._plot.confusion_matrix.ConfusionMatrixDisplay at 0x27a6c835450>"
            ]
          },
          "execution_count": 166,
          "metadata": {},
          "output_type": "execute_result"
        },
        {
          "data": {
            "image/png": "[encoded data removed]",
            "text/plain": [
              "<Figure size 640x480 with 2 Axes>"
            ]
          },
          "metadata": {},
          "output_type": "display_data"
        }
      ],
      "source": [
        "# printing the colored confusion matrix\n",
        "cm = confusion_matrix(y_test, y_test_pred)\n",
        "cmd = ConfusionMatrixDisplay(cm, display_labels=['Rejected', 'Approved'])\n",
        "cmd.plot(cmap='Blues')"
      ]
    },
    {
      "cell_type": "markdown",
      "metadata": {
        "id": "umyd3cKkJtAU"
      },
      "source": [
        "#### Random Forest Classifier Model"
      ]
    },
    {
      "cell_type": "code",
      "execution_count": 167,
      "metadata": {
        "colab": {
          "base_uri": "https://localhost:8080/",
          "height": 74
        },
        "id": "7W9GA6s7JtAV",
        "outputId": "8fbef445-c3ac-4ab5-da6d-ad3bfde5dadf"
      },
      "outputs": [
        {
          "data": {
            "text/html": [
              "<style>#sk-container-id-13 {color: black;background-color: white;}#sk-container-id-13 pre{padding: 0;}#sk-container-id-13 div.sk-toggleable {background-color: white;}#sk-container-id-13 label.sk-toggleable__label {cursor: pointer;display: block;width: 100%;margin-bottom: 0;padding: 0.3em;box-sizing: border-box;text-align: center;}#sk-container-id-13 label.sk-toggleable__label-arrow:before {content: \"▸\";float: left;margin-right: 0.25em;color: #696969;}#sk-container-id-13 label.sk-toggleable__label-arrow:hover:before {color: black;}#sk-container-id-13 div.sk-estimator:hover label.sk-toggleable__label-arrow:before {color: black;}#sk-container-id-13 div.sk-toggleable__content {max-height: 0;max-width: 0;overflow: hidden;text-align: left;background-color: #f0f8ff;}#sk-container-id-13 div.sk-toggleable__content pre {margin: 0.2em;color: black;border-radius: 0.25em;background-color: #f0f8ff;}#sk-container-id-13 input.sk-toggleable__control:checked~div.sk-toggleable__content {max-height: 200px;max-width: 100%;overflow: auto;}#sk-container-id-13 input.sk-toggleable__control:checked~label.sk-toggleable__label-arrow:before {content: \"▾\";}#sk-container-id-13 div.sk-estimator input.sk-toggleable__control:checked~label.sk-toggleable__label {background-color: #d4ebff;}#sk-container-id-13 div.sk-label input.sk-toggleable__control:checked~label.sk-toggleable__label {background-color: #d4ebff;}#sk-container-id-13 input.sk-hidden--visually {border: 0;clip: rect(1px 1px 1px 1px);clip: rect(1px, 1px, 1px, 1px);height: 1px;margin: -1px;overflow: hidden;padding: 0;position: absolute;width: 1px;}#sk-container-id-13 div.sk-estimator {font-family: monospace;background-color: #f0f8ff;border: 1px dotted black;border-radius: 0.25em;box-sizing: border-box;margin-bottom: 0.5em;}#sk-container-id-13 div.sk-estimator:hover {background-color: #d4ebff;}#sk-container-id-13 div.sk-parallel-item::after {content: \"\";width: 100%;border-bottom: 1px solid gray;flex-grow: 1;}#sk-container-id-13 div.sk-label:hover label.sk-toggleable__label {background-color: #d4ebff;}#sk-container-id-13 div.sk-serial::before {content: \"\";position: absolute;border-left: 1px solid gray;box-sizing: border-box;top: 0;bottom: 0;left: 50%;z-index: 0;}#sk-container-id-13 div.sk-serial {display: flex;flex-direction: column;align-items: center;background-color: white;padding-right: 0.2em;padding-left: 0.2em;position: relative;}#sk-container-id-13 div.sk-item {position: relative;z-index: 1;}#sk-container-id-13 div.sk-parallel {display: flex;align-items: stretch;justify-content: center;background-color: white;position: relative;}#sk-container-id-13 div.sk-item::before, #sk-container-id-13 div.sk-parallel-item::before {content: \"\";position: absolute;border-left: 1px solid gray;box-sizing: border-box;top: 0;bottom: 0;left: 50%;z-index: -1;}#sk-container-id-13 div.sk-parallel-item {display: flex;flex-direction: column;z-index: 1;position: relative;background-color: white;}#sk-container-id-13 div.sk-parallel-item:first-child::after {align-self: flex-end;width: 50%;}#sk-container-id-13 div.sk-parallel-item:last-child::after {align-self: flex-start;width: 50%;}#sk-container-id-13 div.sk-parallel-item:only-child::after {width: 0;}#sk-container-id-13 div.sk-dashed-wrapped {border: 1px dashed gray;margin: 0 0.4em 0.5em 0.4em;box-sizing: border-box;padding-bottom: 0.4em;background-color: white;}#sk-container-id-13 div.sk-label label {font-family: monospace;font-weight: bold;display: inline-block;line-height: 1.2em;}#sk-container-id-13 div.sk-label-container {text-align: center;}#sk-container-id-13 div.sk-container {/* jupyter's `normalize.less` sets `[hidden] { display: none; }` but bootstrap.min.css set `[hidden] { display: none !important; }` so we also need the `!important` here to be able to override the default hidden behavior on the sphinx rendered scikit-learn.org. See: https://github.com/scikit-learn/scikit-learn/issues/21755 */display: inline-block !important;position: relative;}#sk-container-id-13 div.sk-text-repr-fallback {display: none;}</style><div id=\"sk-container-id-13\" class=\"sk-top-container\"><div class=\"sk-text-repr-fallback\"><pre>RandomForestClassifier(random_state=42)</pre><b>In a Jupyter environment, please rerun this cell to show the HTML representation or trust the notebook. <br />On GitHub, the HTML representation is unable to render, please try loading this page with nbviewer.org.</b></div><div class=\"sk-container\" hidden><div class=\"sk-item\"><div class=\"sk-estimator sk-toggleable\"><input class=\"sk-toggleable__control sk-hidden--visually\" id=\"sk-estimator-id-13\" type=\"checkbox\" checked><label for=\"sk-estimator-id-13\" class=\"sk-toggleable__label sk-toggleable__label-arrow\">RandomForestClassifier</label><div class=\"sk-toggleable__content\"><pre>RandomForestClassifier(random_state=42)</pre></div></div></div></div></div>"
            ],
            "text/plain": [
              "RandomForestClassifier(random_state=42)"
            ]
          },
          "execution_count": 167,
          "metadata": {},
          "output_type": "execute_result"
        }
      ],
      "source": [
        "# applying random forest classifier on the training set\n",
        "rf_classifier = RandomForestClassifier(random_state=42)\n",
        "\n",
        "# training the random forest classifier\n",
        "rf_classifier.fit(X_train, y_train)"
      ]
    },
    {
      "cell_type": "code",
      "execution_count": 168,
      "metadata": {
        "id": "wSHVX6pJJtAV"
      },
      "outputs": [],
      "source": [
        "# predicting the target variable for the testing set\n",
        "y_test_pred = rf_classifier.predict(X_test)"
      ]
    },
    {
      "cell_type": "code",
      "execution_count": 169,
      "metadata": {
        "colab": {
          "base_uri": "https://localhost:8080/"
        },
        "id": "_tadL3a1JtAV",
        "outputId": "4b775970-b6e4-400a-a323-0bf19a30164e"
      },
      "outputs": [
        {
          "name": "stdout",
          "output_type": "stream",
          "text": [
            "Confusion Matrix: \n",
            "[[529   7]\n",
            " [ 11 307]]\n",
            "Accuracy:  0.9789227166276346\n",
            "Precision:  0.9786683179995281\n",
            "Recall:  0.9761745517694547\n",
            "F1 Score:  0.977395181403228\n",
            "\n",
            "Classification Report: \n",
            "              precision    recall  f1-score   support\n",
            "\n",
            "           0       0.98      0.99      0.98       536\n",
            "           1       0.98      0.97      0.97       318\n",
            "\n",
            "    accuracy                           0.98       854\n",
            "   macro avg       0.98      0.98      0.98       854\n",
            "weighted avg       0.98      0.98      0.98       854\n",
            "\n"
          ]
        }
      ],
      "source": [
        "# evaluating the model\n",
        "\n",
        "# confusion matrix\n",
        "print(\"Confusion Matrix: \")\n",
        "print(confusion_matrix(y_test, y_test_pred))\n",
        "\n",
        "# accuracy of the model\n",
        "accuracy = accuracy_score(y_test, y_test_pred)\n",
        "print(\"Accuracy: \", accuracy)\n",
        "\n",
        "# precision of the model\n",
        "precision = precision_score(y_test, y_test_pred, average='macro')\n",
        "print(\"Precision: \", precision)\n",
        "\n",
        "# recall of the model\n",
        "recall = recall_score(y_test, y_test_pred, average='macro')\n",
        "print(\"Recall: \", recall)\n",
        "\n",
        "# f1 score of the model\n",
        "f1 = f1_score(y_test, y_test_pred, average='macro')\n",
        "print(\"F1 Score: \", f1)\n",
        "\n",
        "# classification report\n",
        "print(\"\\nClassification Report: \")\n",
        "print(classification_report(y_test, y_test_pred))\n",
        "\n",
        "#ROC curve\n",
        "if hasattr(rf_classifier, \"decision_function\"):\n",
        "        probas = rf_classifier.decision_function(X_test)\n",
        "else:\n",
        "    probas = rf_classifier.predict_proba(X_test)[:, 1]\n",
        "\n",
        "fpr, tpr, thresholds = roc_curve(y_test, probas)\n",
        "roc_auc = auc(fpr, tpr)\n",
        "\n",
        "#saving Random Forest Classifier performance metrics\n",
        "performance_metrics[\"Random Forest Classifier\"] = {\"Accuracy\":accuracy, \"Precision\":precision, \"Recall\":recall, \"F1 Score\":f1, \"FPR\":fpr, \"TPR\":tpr, \"Thresholds\":thresholds, \"ROC\":roc_auc}\n"
      ]
    },
    {
      "cell_type": "code",
      "execution_count": 170,
      "metadata": {
        "colab": {
          "base_uri": "https://localhost:8080/",
          "height": 466
        },
        "id": "woP53pUsJtAV",
        "outputId": "c169b8dd-f0c0-45a9-cc2f-650d1060bad4"
      },
      "outputs": [
        {
          "data": {
            "text/plain": [
              "<sklearn.metrics._plot.confusion_matrix.ConfusionMatrixDisplay at 0x27a6f0e7590>"
            ]
          },
          "execution_count": 170,
          "metadata": {},
          "output_type": "execute_result"
        },
        {
          "data": {
            "image/png": "[encoded data removed]",
            "text/plain": [
              "<Figure size 640x480 with 2 Axes>"
            ]
          },
          "metadata": {},
          "output_type": "display_data"
        }
      ],
      "source": [
        "# printing the colored confusion matrix\n",
        "cm = confusion_matrix(y_test, y_test_pred)\n",
        "cmd = ConfusionMatrixDisplay(cm, display_labels=['Rejected', 'Approved'])\n",
        "cmd.plot(cmap='Blues')"
      ]
    },
    {
      "cell_type": "markdown",
      "metadata": {
        "id": "BJSrCFn4JtAW"
      },
      "source": [
        "## Comparing the Models and Selecting the Best One"
      ]
    },
    {
      "cell_type": "code",
      "execution_count": 171,
      "metadata": {
        "colab": {
          "base_uri": "https://localhost:8080/"
        },
        "id": "uqK7ulnea_ku",
        "outputId": "6dd0c4f4-7174-41a0-c796-3f3170860efe"
      },
      "outputs": [
        {
          "name": "stdout",
          "output_type": "stream",
          "text": [
            "\n",
            "Performance metrics of each model: \n",
            "\n",
            "Model:  Logistic Regression\n",
            "Accuracy:  0.905152224824356\n",
            "Precision:  0.8995559046376076\n",
            "Recall:  0.8969421759128884\n",
            "F1 Score:  0.898211707993237\n",
            "\n",
            "\n",
            "Model:  K Nearest Neighbour\n",
            "Accuracy:  0.8992974238875878\n",
            "Precision:  0.8899988484569323\n",
            "Recall:  0.8973939265934479\n",
            "F1 Score:  0.8933293827849043\n",
            "\n",
            "\n",
            "Model:  Decision Tree\n",
            "Accuracy:  0.8992974238875878\n",
            "Precision:  0.8899988484569323\n",
            "Recall:  0.8973939265934479\n",
            "F1 Score:  0.8933293827849043\n",
            "\n",
            "\n",
            "Model:  Support Vector Machine\n",
            "Accuracy:  0.8992974238875878\n",
            "Precision:  0.8899988484569323\n",
            "Recall:  0.8973939265934479\n",
            "F1 Score:  0.8933293827849043\n",
            "\n",
            "\n",
            "Model:  Gaussian NB\n",
            "Accuracy:  0.8992974238875878\n",
            "Precision:  0.8899988484569323\n",
            "Recall:  0.8973939265934479\n",
            "F1 Score:  0.8933293827849043\n",
            "\n",
            "\n",
            "Model:  Random Forest Classifier\n",
            "Accuracy:  0.9789227166276346\n",
            "Precision:  0.9786683179995281\n",
            "Recall:  0.9761745517694547\n",
            "F1 Score:  0.977395181403228\n",
            "\n",
            "\n"
          ]
        }
      ],
      "source": [
        "# printing the performance metrics of each model\n",
        "print(\"\\nPerformance metrics of each model: \\n\")\n",
        "for key, value in performance_metrics.items():\n",
        "    print(\"Model: \", key)\n",
        "    print(\"Accuracy: \", value[\"Accuracy\"])\n",
        "    print(\"Precision: \", value[\"Precision\"])\n",
        "    print(\"Recall: \", value[\"Recall\"])\n",
        "    print(\"F1 Score: \", value[\"F1 Score\"])\n",
        "\n",
        "    print(\"\\n\")"
      ]
    },
    {
      "cell_type": "markdown",
      "metadata": {
        "id": "eiGluT8Q3RF-"
      },
      "source": [
        "ROC Curve"
      ]
    },
    {
      "cell_type": "code",
      "execution_count": 172,
      "metadata": {
        "colab": {
          "base_uri": "https://localhost:8080/",
          "height": 718
        },
        "id": "sESAACnt3PfN",
        "outputId": "864965d4-ed99-4674-e8df-7d2dbcc22de6"
      },
      "outputs": [
        {
          "data": {
            "image/png": "[encoded data removed]",
            "text/plain": [
              "<Figure size 1000x800 with 1 Axes>"
            ]
          },
          "metadata": {},
          "output_type": "display_data"
        }
      ],
      "source": [
        "# plotting the ROC curve for each model\n",
        "plt.figure(figsize=(10, 8))\n",
        "for key, value in performance_metrics.items():\n",
        "    fpr = value[\"FPR\"]\n",
        "    tpr = value[\"TPR\"]\n",
        "    roc_auc = value[\"ROC\"]\n",
        "    plt.plot(fpr, tpr, label=f'{key} (AUC = {roc_auc:.2f})')\n",
        "\n",
        "# Plot the ROC curve for a random classifier (baseline)\n",
        "plt.plot([0, 1], [0, 1], linestyle='--', color='gray',\n",
        "         label='Random Classifier (AUC = 0.5)')\n",
        "\n",
        "# Set labels and title\n",
        "plt.xlabel('False Positive Rate')\n",
        "plt.ylabel('True Positive Rate')\n",
        "plt.title('Receiver Operating Characteristic (ROC) Curve')\n",
        "plt.legend(loc='lower right')\n",
        "plt.show()"
      ]
    },
    {
      "cell_type": "markdown",
      "metadata": {
        "id": "iALcIQkMJtAV"
      },
      "source": [
        "### Making Predictions"
      ]
    },
    {
      "cell_type": "code",
      "execution_count": 173,
      "metadata": {
        "colab": {
          "base_uri": "https://localhost:8080/"
        },
        "id": "x9DXh6jdJtAV",
        "outputId": "89509e41-8ee1-4013-fb62-1638e76896f7"
      },
      "outputs": [
        {
          "name": "stdout",
          "output_type": "stream",
          "text": [
            "Sample input:\n",
            " |    |   no_of_dependents |   education |   self_employed |   income_annum |   loan_amount |   loan_term |   cibil_score |   residential_assets_value |   commercial_assets_value |   luxury_assets_value |   bank_asset_value |\n",
            "|---:|-------------------:|------------:|----------------:|---------------:|--------------:|------------:|--------------:|---------------------------:|--------------------------:|----------------------:|-------------------:|\n",
            "|  0 |          -0.294102 |           0 |               0 |       -1.80246 |      0.538198 |    0.718147 |      0.870389 |                   -1.14897 |                   -1.1321 |              -1.66171 |           -1.52984 |\n"
          ]
        }
      ],
      "source": [
        "# sample input in the form of a dictionary\n",
        "sample_input = {\n",
        "    'no_of_dependents': 2,\n",
        "    'education': \"Graduate\",\n",
        "    'self_employed': 'No',\n",
        "    'income_annum': 500,\n",
        "    'loan_amount': 20000000,\n",
        "    'loan_term': 15,\n",
        "    'cibil_score': 750,\n",
        "    'residential_assets_value': 1000,\n",
        "    'commercial_assets_value': 5000,\n",
        "    'luxury_assets_value': 250,\n",
        "    'bank_asset_value': 5000\n",
        "}\n",
        "\n",
        "# converting the dictionary to DataFrame\n",
        "sample_df = pd.DataFrame([sample_input])\n",
        "\n",
        "# encoding the categorical columns\n",
        "le = LabelEncoder()\n",
        "sample_df['education'] = le.fit_transform(sample_df['education'])\n",
        "sample_df['self_employed'] = le.fit_transform(sample_df['self_employed'])\n",
        "\n",
        "\n",
        "# # scale numerical features\n",
        "sample_df[columns_to_scale] = scaler.transform(sample_df[columns_to_scale])\n",
        "\n",
        "# printing the sample input\n",
        "print(\"Sample input:\\n\", sample_df.to_markdown())"
      ]
    },
    {
      "cell_type": "code",
      "execution_count": 174,
      "metadata": {
        "colab": {
          "base_uri": "https://localhost:8080/"
        },
        "id": "q1X-4Er8JtAW",
        "outputId": "ebe6d543-a92d-452e-8a9e-fdec643f0e40"
      },
      "outputs": [
        {
          "name": "stdout",
          "output_type": "stream",
          "text": [
            "Prediction:  Approved\n"
          ]
        }
      ],
      "source": [
        "# predicting the target variable for the sample input\n",
        "sample_prediction = rf_classifier.predict(sample_df)\n",
        "\n",
        "# printing the prediction\n",
        "print(\"Prediction: \", \"Approved\" if sample_prediction[0] == 0 else \"Rejected\")"
      ]
    },
    {
      "cell_type": "markdown",
      "metadata": {
        "id": "Fglkhhr5JtAW"
      },
      "source": [
        "## Conclusion"
      ]
    },
    {
      "cell_type": "markdown",
      "metadata": {
        "id": "Em8KXp_zJtAW"
      },
      "source": [
        "Through the Loan Approval Prediction project, we successfully implemented a machine learning solution to predict the approval of loan applications based on the provided features. The main steps undertaken in this project were:\n",
        "\n",
        "- **Data Exploration**: We began by understanding the structure of the dataset, checking for missing values, and analyzing the statistics of each feature.\n",
        "- **Data Pre-processing**: This involved data cleaning where trailing spaces were removed. Data transformation was then performed wherein categorical variables were encoded using the LabelEncoder and numerical features were scaled using the StandardScaler.\n",
        "- **Model Training**: We used the Random Forest Classifier, which is known for its robustness and capability to handle a variety of data types. The dataset was split into training, validation, and testing subsets. The model was then trained on the training subset.\n",
        "- **Model Testing**: We validated the model on a validation subset and checked its accuracy. This step helps in understanding how well the model will generalize to unseen data.\n",
        "\n",
        "The achieved accuracy on the validation set indicates the model's ability to predict loan application approvals. However, there are several ways this project can be further improved:\n",
        "\n",
        "- **Feature Engineering**: Creating new features or transforming existing features might enhance the model's predictive power.\n",
        "- **Hyperparameter Tuning**: The performance of the Random Forest Classifier can be enhanced by tuning its hyperparameters.\n",
        "- **Use of Advanced Models**: More sophisticated algorithms like Gradient Boosting or Neural Networks can be tried to possibly achieve better results.\n",
        "- **Handling Imbalanced Data**: If the dataset is imbalanced, techniques like oversampling, undersampling, or using the Synthetic Minority Over-sampling Technique (SMOTE) can be applied."
      ]
    }
  ],
  "metadata": {
    "colab": {
      "provenance": []
    },
    "kernelspec": {
      "display_name": "Python 3",
      "language": "python",
      "name": "python3"
    },
    "language_info": {
      "codemirror_mode": {
        "name": "ipython",
        "version": 3
      },
      "file_extension": ".py",
      "mimetype": "text/x-python",
      "name": "python",
      "nbconvert_exporter": "python",
      "pygments_lexer": "ipython3",
      "version": "3.11.6"
    }
  },
  "nbformat": 4,
  "nbformat_minor": 0
}
